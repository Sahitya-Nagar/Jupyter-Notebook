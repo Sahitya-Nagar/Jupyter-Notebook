{
 "cells": [
  {
   "cell_type": "code",
   "execution_count": 1,
   "id": "8071951c",
   "metadata": {},
   "outputs": [
    {
     "data": {
      "application/json": {
       "cell": {
        "!": "OSMagics",
        "HTML": "Other",
        "SVG": "Other",
        "bash": "Other",
        "capture": "ExecutionMagics",
        "cmd": "Other",
        "debug": "ExecutionMagics",
        "file": "Other",
        "html": "DisplayMagics",
        "javascript": "DisplayMagics",
        "js": "DisplayMagics",
        "latex": "DisplayMagics",
        "markdown": "DisplayMagics",
        "perl": "Other",
        "prun": "ExecutionMagics",
        "pypy": "Other",
        "python": "Other",
        "python2": "Other",
        "python3": "Other",
        "ruby": "Other",
        "script": "ScriptMagics",
        "sh": "Other",
        "svg": "DisplayMagics",
        "sx": "OSMagics",
        "system": "OSMagics",
        "time": "ExecutionMagics",
        "timeit": "ExecutionMagics",
        "writefile": "OSMagics"
       },
       "line": {
        "alias": "OSMagics",
        "alias_magic": "BasicMagics",
        "autoawait": "AsyncMagics",
        "autocall": "AutoMagics",
        "automagic": "AutoMagics",
        "autosave": "KernelMagics",
        "bookmark": "OSMagics",
        "cd": "OSMagics",
        "clear": "KernelMagics",
        "cls": "KernelMagics",
        "colors": "BasicMagics",
        "conda": "PackagingMagics",
        "config": "ConfigMagics",
        "connect_info": "KernelMagics",
        "copy": "Other",
        "ddir": "Other",
        "debug": "ExecutionMagics",
        "dhist": "OSMagics",
        "dirs": "OSMagics",
        "doctest_mode": "BasicMagics",
        "echo": "Other",
        "ed": "Other",
        "edit": "KernelMagics",
        "env": "OSMagics",
        "gui": "BasicMagics",
        "hist": "Other",
        "history": "HistoryMagics",
        "killbgscripts": "ScriptMagics",
        "ldir": "Other",
        "less": "KernelMagics",
        "load": "CodeMagics",
        "load_ext": "ExtensionMagics",
        "loadpy": "CodeMagics",
        "logoff": "LoggingMagics",
        "logon": "LoggingMagics",
        "logstart": "LoggingMagics",
        "logstate": "LoggingMagics",
        "logstop": "LoggingMagics",
        "ls": "Other",
        "lsmagic": "BasicMagics",
        "macro": "ExecutionMagics",
        "magic": "BasicMagics",
        "matplotlib": "PylabMagics",
        "mkdir": "Other",
        "more": "KernelMagics",
        "notebook": "BasicMagics",
        "page": "BasicMagics",
        "pastebin": "CodeMagics",
        "pdb": "ExecutionMagics",
        "pdef": "NamespaceMagics",
        "pdoc": "NamespaceMagics",
        "pfile": "NamespaceMagics",
        "pinfo": "NamespaceMagics",
        "pinfo2": "NamespaceMagics",
        "pip": "PackagingMagics",
        "popd": "OSMagics",
        "pprint": "BasicMagics",
        "precision": "BasicMagics",
        "prun": "ExecutionMagics",
        "psearch": "NamespaceMagics",
        "psource": "NamespaceMagics",
        "pushd": "OSMagics",
        "pwd": "OSMagics",
        "pycat": "OSMagics",
        "pylab": "PylabMagics",
        "qtconsole": "KernelMagics",
        "quickref": "BasicMagics",
        "recall": "HistoryMagics",
        "rehashx": "OSMagics",
        "reload_ext": "ExtensionMagics",
        "ren": "Other",
        "rep": "Other",
        "rerun": "HistoryMagics",
        "reset": "NamespaceMagics",
        "reset_selective": "NamespaceMagics",
        "rmdir": "Other",
        "run": "ExecutionMagics",
        "save": "CodeMagics",
        "sc": "OSMagics",
        "set_env": "OSMagics",
        "store": "StoreMagics",
        "sx": "OSMagics",
        "system": "OSMagics",
        "tb": "ExecutionMagics",
        "time": "ExecutionMagics",
        "timeit": "ExecutionMagics",
        "unalias": "OSMagics",
        "unload_ext": "ExtensionMagics",
        "who": "NamespaceMagics",
        "who_ls": "NamespaceMagics",
        "whos": "NamespaceMagics",
        "xdel": "NamespaceMagics",
        "xmode": "BasicMagics"
       }
      },
      "text/plain": [
       "Available line magics:\n",
       "%alias  %alias_magic  %autoawait  %autocall  %automagic  %autosave  %bookmark  %cd  %clear  %cls  %colors  %conda  %config  %connect_info  %copy  %ddir  %debug  %dhist  %dirs  %doctest_mode  %echo  %ed  %edit  %env  %gui  %hist  %history  %killbgscripts  %ldir  %less  %load  %load_ext  %loadpy  %logoff  %logon  %logstart  %logstate  %logstop  %ls  %lsmagic  %macro  %magic  %matplotlib  %mkdir  %more  %notebook  %page  %pastebin  %pdb  %pdef  %pdoc  %pfile  %pinfo  %pinfo2  %pip  %popd  %pprint  %precision  %prun  %psearch  %psource  %pushd  %pwd  %pycat  %pylab  %qtconsole  %quickref  %recall  %rehashx  %reload_ext  %ren  %rep  %rerun  %reset  %reset_selective  %rmdir  %run  %save  %sc  %set_env  %store  %sx  %system  %tb  %time  %timeit  %unalias  %unload_ext  %who  %who_ls  %whos  %xdel  %xmode\n",
       "\n",
       "Available cell magics:\n",
       "%%!  %%HTML  %%SVG  %%bash  %%capture  %%cmd  %%debug  %%file  %%html  %%javascript  %%js  %%latex  %%markdown  %%perl  %%prun  %%pypy  %%python  %%python2  %%python3  %%ruby  %%script  %%sh  %%svg  %%sx  %%system  %%time  %%timeit  %%writefile\n",
       "\n",
       "Automagic is ON, % prefix IS NOT needed for line magics."
      ]
     },
     "execution_count": 1,
     "metadata": {},
     "output_type": "execute_result"
    }
   ],
   "source": [
    "%lsmagic # lists all magic commands"
   ]
  },
  {
   "cell_type": "code",
   "execution_count": 2,
   "id": "4e96f44a",
   "metadata": {},
   "outputs": [
    {
     "name": "stdout",
     "output_type": "stream",
     "text": [
      "Interactive namespace is empty.\n"
     ]
    }
   ],
   "source": [
    "%who"
   ]
  },
  {
   "cell_type": "code",
   "execution_count": 3,
   "id": "856d6a0c",
   "metadata": {},
   "outputs": [
    {
     "name": "stdout",
     "output_type": "stream",
     "text": [
      "CPU times: total: 0 ns\n",
      "Wall time: 0 ns\n"
     ]
    }
   ],
   "source": [
    "%time"
   ]
  },
  {
   "cell_type": "code",
   "execution_count": 4,
   "id": "3a29afd5",
   "metadata": {},
   "outputs": [
    {
     "name": "stderr",
     "output_type": "stream",
     "text": [
      "UsageError: Line magic function `%date` not found.\n"
     ]
    }
   ],
   "source": [
    "%date"
   ]
  },
  {
   "cell_type": "code",
   "execution_count": 5,
   "id": "17ebda73",
   "metadata": {},
   "outputs": [
    {
     "data": {
      "text/html": [
       "\n",
       "<html>\n",
       "<head>\n",
       "<h1 align=\"center\" style=\"color:red\"> COMPACT COMPUTER INSTITUTE </h1>\n",
       "<h2> VIKAS PATNI </h2>\n",
       "<h3> AMIT PATNI </h3>\n",
       "<h4> JAVA, PYTHON, ANDROID </h4>\n",
       "\n",
       "</head>\n",
       "<body>\n",
       "\n",
       "h<sub>2</sub>o\n",
       "<br>\n",
       "mc<sup>2</sup>\n",
       "<br>\n",
       "\n",
       "<table border=\"5\" cellpadding=\"10\" cellspacing=\"10\" width=50% align=\"center\" style=\"border-color:5pt dark green\">\n",
       "<tr> <th> ID </th> <th> NAME </th> <th> PER </th> </tr>\n",
       "<tr> <td> 1 </td> <td> BHAVYA </td> <td> 80 </td> </tr>\n",
       "<tr> <td> 2 </td> <td> KEVAL </td> <td> 70 </td> </tr>\n",
       "<tr> <td> 3 </td> <td> AARYAN </td> <td> 60 </td> </tr>\n",
       "<tr> <td> 4 </td> <td> JANAK </td> <td> 85 </td> </tr>\n",
       "<tr> <td> 5 </td> <td> HET </td> <td> 87 </td> </tr>\n",
       "\n",
       "</table>\n",
       "\n",
       "</body>\n",
       "\n",
       "</html>\n"
      ],
      "text/plain": [
       "<IPython.core.display.HTML object>"
      ]
     },
     "metadata": {},
     "output_type": "display_data"
    }
   ],
   "source": [
    "%%html\n",
    "\n",
    "<html>\n",
    "<head>\n",
    "<h1 align=\"center\" style=\"color:red\"> COMPACT COMPUTER INSTITUTE </h1>\n",
    "<h2> VIKAS PATNI </h2>\n",
    "<h3> AMIT PATNI </h3>\n",
    "<h4> JAVA, PYTHON, ANDROID </h4>\n",
    "\n",
    "</head>\n",
    "<body>\n",
    "\n",
    "h<sub>2</sub>o\n",
    "<br>\n",
    "mc<sup>2</sup>\n",
    "<br>\n",
    "\n",
    "<table border=\"5\" cellpadding=\"10\" cellspacing=\"10\" width=50% align=\"center\" style=\"border-color:5pt dark green\">\n",
    "<tr> <th> ID </th> <th> NAME </th> <th> PER </th> </tr>\n",
    "<tr> <td> 1 </td> <td> BHAVYA </td> <td> 80 </td> </tr>\n",
    "<tr> <td> 2 </td> <td> KEVAL </td> <td> 70 </td> </tr>\n",
    "<tr> <td> 3 </td> <td> AARYAN </td> <td> 60 </td> </tr>\n",
    "<tr> <td> 4 </td> <td> JANAK </td> <td> 85 </td> </tr>\n",
    "<tr> <td> 5 </td> <td> HET </td> <td> 87 </td> </tr>\n",
    "\n",
    "</table>\n",
    "\n",
    "</body>\n",
    "\n",
    "</html>"
   ]
  },
  {
   "cell_type": "code",
   "execution_count": 6,
   "id": "d9567c4c",
   "metadata": {},
   "outputs": [
    {
     "data": {
      "text/html": [
       "\n",
       "<html>\n",
       "<head>\n",
       "\n",
       "</head>\n",
       "<body>\n",
       "\n",
       "<form name=\"f1\" method=\"post\">\n",
       "\n",
       "NAME : <input type=\"text\" name=\"tna\" placeholder=\"ENTER NAME\"> <br>\n",
       "PASSWORD : <input type=\"password\" name=\"tpa\"> <br>\n",
       "ADDRESS : <textarea name=\"tad\"> </textarea> <BR>\n",
       "GENDER : <input type=\"radio\" name=\"gen\" value=\"MALE\"> MALE\n",
       "         <input type=\"radio\" name=\"gen\" value=\"FEMALE\"> FEMALE\n",
       "         <input type=\"radio\" name=\"gen\" value=\"OTHER\"> OTHER   <BR>\n",
       "            \n",
       "DEPT : <select name=\"dept\"> \n",
       "        <option value=\"COMPUTER\">  COMPUTER </option>\n",
       "        <option value=\"IT\"> IT </option>\n",
       "        <option value=\"MECH\"> MECH </option>\n",
       "        <option value=\"EC\"> EC </option>\n",
       "       </select> <br>\n",
       "    \n",
       "HOBBIES : <input type=\"checkbox\" name=\"c1\" value=\"SWIM\"> SWIM\n",
       "            <input type=\"checkbox\" name=\"c2\" value=\"GARBA\"> GARBA\n",
       "        <input type=\"checkbox\" name=\"c3\" value=\"STUDY\"> STUDY\n",
       "        <input type=\"checkbox\" name=\"c4\" value=\"SING\"> SING  <br>\n",
       "        \n",
       "UPLOAD : <input type=\"file\" name=\"myfile\"> <br> <br>\n",
       "    \n",
       "<input type=\"button\" name=\"b1\" value=\"BUTTON\"> <!-- TO CALL JAVA SCRIPT FUNCTION -->\n",
       "<input type=\"submit\" name=\"b2\" value=\"SUBMIT\"> <!-- TO CALL SERVER SIDE SCRIPT -->\n",
       "<input type=\"reset\" name=\"b3\" value=\"CANCEL\"> \n",
       "\n",
       "</form>\n",
       "\n",
       "</body>\n",
       "\n",
       "</html>\n"
      ],
      "text/plain": [
       "<IPython.core.display.HTML object>"
      ]
     },
     "metadata": {},
     "output_type": "display_data"
    }
   ],
   "source": [
    "%%HTML\n",
    "\n",
    "<html>\n",
    "<head>\n",
    "\n",
    "</head>\n",
    "<body>\n",
    "\n",
    "<form name=\"f1\" method=\"post\">\n",
    "\n",
    "NAME : <input type=\"text\" name=\"tna\" placeholder=\"ENTER NAME\"> <br>\n",
    "PASSWORD : <input type=\"password\" name=\"tpa\"> <br>\n",
    "ADDRESS : <textarea name=\"tad\"> </textarea> <BR>\n",
    "GENDER : <input type=\"radio\" name=\"gen\" value=\"MALE\"> MALE\n",
    "         <input type=\"radio\" name=\"gen\" value=\"FEMALE\"> FEMALE\n",
    "         <input type=\"radio\" name=\"gen\" value=\"OTHER\"> OTHER   <BR>\n",
    "            \n",
    "DEPT : <select name=\"dept\"> \n",
    "        <option value=\"COMPUTER\">  COMPUTER </option>\n",
    "        <option value=\"IT\"> IT </option>\n",
    "        <option value=\"MECH\"> MECH </option>\n",
    "        <option value=\"EC\"> EC </option>\n",
    "       </select> <br>\n",
    "    \n",
    "HOBBIES : <input type=\"checkbox\" name=\"c1\" value=\"SWIM\"> SWIM\n",
    "            <input type=\"checkbox\" name=\"c2\" value=\"GARBA\"> GARBA\n",
    "        <input type=\"checkbox\" name=\"c3\" value=\"STUDY\"> STUDY\n",
    "        <input type=\"checkbox\" name=\"c4\" value=\"SING\"> SING  <br>\n",
    "        \n",
    "UPLOAD : <input type=\"file\" name=\"myfile\"> <br> <br>\n",
    "    \n",
    "<input type=\"button\" name=\"b1\" value=\"BUTTON\"> <!-- TO CALL JAVA SCRIPT FUNCTION -->\n",
    "<input type=\"submit\" name=\"b2\" value=\"SUBMIT\"> <!-- TO CALL SERVER SIDE SCRIPT -->\n",
    "<input type=\"reset\" name=\"b3\" value=\"CANCEL\"> \n",
    "\n",
    "</form>\n",
    "\n",
    "</body>\n",
    "\n",
    "</html>"
   ]
  },
  {
   "cell_type": "code",
   "execution_count": 10,
   "id": "95768a7d",
   "metadata": {},
   "outputs": [
    {
     "data": {
      "image/svg+xml": [
       "<svg width=\"600\" height=\"200\">\n",
       "\n",
       "<line x1=\"5\" y1=\"5\" x2=\"200\" y2=\"5\" style=\"stroke:red;stroke-width:5\"/>\n",
       "<circle cx=\"100\" cy=\"100\" r=\"50\" style=\"fill:blue\"/>\n",
       "<rect x=\"400\" y=\"50\" width=\"100\" height=\"100\" style=\"fill:orange;stroke:black\"/>\n",
       "<rect x=\"50\" y=\"50\" width=\"100\" height=\"100\" style=\"fill:orange;stroke:black;opacity:.5\"/>\n",
       "\n",
       "</svg>"
      ],
      "text/plain": [
       "<IPython.core.display.SVG object>"
      ]
     },
     "metadata": {},
     "output_type": "display_data"
    }
   ],
   "source": [
    "%%SVG\n",
    "\n",
    "<svg width=\"600\" height=\"200\">\n",
    "\n",
    "<line x1=\"5\" y1=\"5\" x2=\"200\" y2=\"5\" style=\"stroke:red;stroke-width:5\"/>\n",
    "<circle cx=\"100\" cy=\"100\" r=\"50\" style=\"fill:blue\"/>\n",
    "<rect x=\"400\" y=\"50\" width=\"100\" height=\"100\" style=\"fill:orange;stroke:black\"/>\n",
    "<rect x=\"50\" y=\"50\" width=\"100\" height=\"100\" style=\"fill:orange;stroke:black;opacity:.5\"/>\n",
    "\n",
    "</svg>"
   ]
  },
  {
   "cell_type": "code",
   "execution_count": 30,
   "id": "73bcc372",
   "metadata": {},
   "outputs": [
    {
     "data": {
      "image/svg+xml": [
       "<svg width=\"600\" height=\"200\">\n",
       "\n",
       "<rect x=\"50\" y=\"50\" width=\"300\" height=\"100\" style=\"fill:orange;stroke:black\"/>\n",
       "<rect x=\"50\" y=\"100\" width=\"300\" height=\"100\" style=\"fill:white;stroke:black\"/>\n",
       "<rect x=\"50\" y=\"150\" width=\"300\" height=\"100\" style=\"fill:green;stroke:black\"/>\n",
       "<circle cx=\"200\" cy=\"125\" r=\"25\" style=\"fill:blue\"/>\n",
       "\n",
       "</svg>"
      ],
      "text/plain": [
       "<IPython.core.display.SVG object>"
      ]
     },
     "metadata": {},
     "output_type": "display_data"
    }
   ],
   "source": [
    "%%SVG\n",
    "\n",
    "<svg width=\"600\" height=\"200\">\n",
    "\n",
    "<rect x=\"50\" y=\"50\" width=\"300\" height=\"100\" style=\"fill:orange;stroke:black\"/>\n",
    "<rect x=\"50\" y=\"100\" width=\"300\" height=\"100\" style=\"fill:white;stroke:black\"/>\n",
    "<rect x=\"50\" y=\"150\" width=\"300\" height=\"100\" style=\"fill:green;stroke:black\"/>\n",
    "<circle cx=\"200\" cy=\"125\" r=\"25\" style=\"fill:blue\"/>\n",
    "\n",
    "</svg>"
   ]
  },
  {
   "cell_type": "code",
   "execution_count": null,
   "id": "184308c3",
   "metadata": {},
   "outputs": [],
   "source": []
  },
  {
   "cell_type": "code",
   "execution_count": null,
   "id": "a3fb5105",
   "metadata": {},
   "outputs": [],
   "source": []
  },
  {
   "cell_type": "code",
   "execution_count": null,
   "id": "dd840758",
   "metadata": {},
   "outputs": [],
   "source": []
  },
  {
   "cell_type": "code",
   "execution_count": null,
   "id": "3a8b1fc8",
   "metadata": {},
   "outputs": [],
   "source": []
  },
  {
   "cell_type": "code",
   "execution_count": null,
   "id": "92f071c7",
   "metadata": {},
   "outputs": [],
   "source": []
  },
  {
   "cell_type": "code",
   "execution_count": null,
   "id": "be7092cc",
   "metadata": {},
   "outputs": [],
   "source": []
  },
  {
   "cell_type": "code",
   "execution_count": null,
   "id": "76c81601",
   "metadata": {},
   "outputs": [],
   "source": []
  },
  {
   "cell_type": "code",
   "execution_count": null,
   "id": "752e1e0e",
   "metadata": {},
   "outputs": [],
   "source": []
  },
  {
   "cell_type": "code",
   "execution_count": null,
   "id": "4c63bc06",
   "metadata": {},
   "outputs": [],
   "source": []
  },
  {
   "cell_type": "code",
   "execution_count": null,
   "id": "188f27d6",
   "metadata": {},
   "outputs": [],
   "source": []
  },
  {
   "cell_type": "code",
   "execution_count": null,
   "id": "4bf09ed4",
   "metadata": {},
   "outputs": [],
   "source": []
  },
  {
   "cell_type": "code",
   "execution_count": null,
   "id": "ab49162b",
   "metadata": {},
   "outputs": [],
   "source": []
  },
  {
   "cell_type": "code",
   "execution_count": null,
   "id": "add597ba",
   "metadata": {},
   "outputs": [],
   "source": []
  },
  {
   "cell_type": "code",
   "execution_count": null,
   "id": "a1c2c0ee",
   "metadata": {},
   "outputs": [],
   "source": []
  },
  {
   "cell_type": "code",
   "execution_count": null,
   "id": "c3285318",
   "metadata": {},
   "outputs": [],
   "source": []
  },
  {
   "cell_type": "code",
   "execution_count": null,
   "id": "d00556f9",
   "metadata": {},
   "outputs": [],
   "source": []
  },
  {
   "cell_type": "code",
   "execution_count": null,
   "id": "eb91f389",
   "metadata": {},
   "outputs": [],
   "source": []
  },
  {
   "cell_type": "code",
   "execution_count": null,
   "id": "fe88bf7b",
   "metadata": {},
   "outputs": [],
   "source": []
  },
  {
   "cell_type": "code",
   "execution_count": null,
   "id": "66ec6810",
   "metadata": {},
   "outputs": [],
   "source": []
  },
  {
   "cell_type": "code",
   "execution_count": null,
   "id": "1d80d4c8",
   "metadata": {},
   "outputs": [],
   "source": []
  },
  {
   "cell_type": "code",
   "execution_count": null,
   "id": "1c77c77e",
   "metadata": {},
   "outputs": [],
   "source": []
  },
  {
   "cell_type": "code",
   "execution_count": null,
   "id": "87283b5c",
   "metadata": {},
   "outputs": [],
   "source": []
  },
  {
   "cell_type": "code",
   "execution_count": null,
   "id": "d383bb50",
   "metadata": {},
   "outputs": [],
   "source": []
  }
 ],
 "metadata": {
  "kernelspec": {
   "display_name": "Python 3 (ipykernel)",
   "language": "python",
   "name": "python3"
  },
  "language_info": {
   "codemirror_mode": {
    "name": "ipython",
    "version": 3
   },
   "file_extension": ".py",
   "mimetype": "text/x-python",
   "name": "python",
   "nbconvert_exporter": "python",
   "pygments_lexer": "ipython3",
   "version": "3.11.4"
  }
 },
 "nbformat": 4,
 "nbformat_minor": 5
}
