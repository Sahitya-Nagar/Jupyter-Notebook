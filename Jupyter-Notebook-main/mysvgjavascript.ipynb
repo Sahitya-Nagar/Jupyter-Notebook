{
 "cells": [
  {
   "cell_type": "code",
   "execution_count": 3,
   "id": "038ad0b1",
   "metadata": {},
   "outputs": [
    {
     "data": {
      "image/svg+xml": [
       "<svg width=\"500\" height=\"300\">\n",
       "\n",
       "<rect x=\"50\" y=\"30\" width=\"150\" height=\"150\" rx=\"20\" ry=\"20\" style=\"fill:blue;stroke:red;stroke-width:10;\"/>\n",
       "\n",
       "<animate attributeType=\"css\" attributeName=\"opacity\" from=\"1\" to=\"0\" dur=\"3\" repeatCount=\"3\"/>\n",
       "\n",
       "</svg>"
      ],
      "text/plain": [
       "<IPython.core.display.SVG object>"
      ]
     },
     "metadata": {},
     "output_type": "display_data"
    }
   ],
   "source": [
    "%%svg\n",
    "\n",
    "<svg width=\"500\" height=\"300\">\n",
    "\n",
    "<rect x=\"50\" y=\"30\" width=\"150\" height=\"150\" rx=\"20\" ry=\"20\" style=\"fill:blue;stroke:red;stroke-width:10;\" />\n",
    "\n",
    "<animate\n",
    "    attributeType=\"css\"\n",
    "    attributeName=\"opacity\"\n",
    "    from=\"1\"\n",
    "    to=\"0\"\n",
    "    dur=\"3\"\n",
    "    repeatCount=\"3\"/>\n",
    "\n",
    "</svg>"
   ]
  },
  {
   "cell_type": "code",
   "execution_count": null,
   "id": "7df79f77",
   "metadata": {},
   "outputs": [],
   "source": []
  },
  {
   "cell_type": "code",
   "execution_count": 1,
   "id": "e82f9a65",
   "metadata": {},
   "outputs": [
    {
     "data": {
      "image/svg+xml": [
       "<svg width=\"500\" height=\"300\">\n",
       "\n",
       "<circle cx=\"70\" cy=\"70\" r=\"10\" style=\"fill:red\">\n",
       "\n",
       "<animate attributeName=\"r\" from=\"10\" to=\"70\" dur=\"2\" repeatCount=\"indefinite\" begin=\"click\"/>\n",
       "    \n",
       "</circle>\n",
       "\n",
       "</svg>"
      ],
      "text/plain": [
       "<IPython.core.display.SVG object>"
      ]
     },
     "metadata": {},
     "output_type": "display_data"
    }
   ],
   "source": [
    "%%svg\n",
    "\n",
    "<svg width=\"500\" height=\"300\">\n",
    "\n",
    "<circle cx=\"70\" cy=\"70\" r=\"10\" style=\"fill:red\">\n",
    "\n",
    "<animate\n",
    "    attributeName=\"r\"\n",
    "    from=\"10\"\n",
    "    to=\"70\"\n",
    "    dur=\"2\"\n",
    "    repeatCount=\"indefinite\"\n",
    "    begin=\"click\"/>\n",
    "    \n",
    "</circle>\n",
    "\n",
    "</svg>"
   ]
  },
  {
   "cell_type": "code",
   "execution_count": null,
   "id": "cfe4cb17",
   "metadata": {},
   "outputs": [],
   "source": []
  },
  {
   "cell_type": "code",
   "execution_count": 2,
   "id": "9f73665f",
   "metadata": {},
   "outputs": [
    {
     "data": {
      "image/svg+xml": [
       "<svg width=\"800\" height=\"300\">\n",
       "\n",
       "<circle cx=\"100\" cy=\"100\" r=\"30\" style=\"fill:red\">\n",
       "\n",
       "<animate attributeName=\"cx\" from=\"10\" to=\"800\" dur=\"3\" repeatCount=\"indefinite\" begin=\"click\"/>\n",
       "    \n",
       "</circle>\n",
       "\n",
       "</svg>"
      ],
      "text/plain": [
       "<IPython.core.display.SVG object>"
      ]
     },
     "metadata": {},
     "output_type": "display_data"
    }
   ],
   "source": [
    "%%svg\n",
    "\n",
    "<svg width=\"800\" height=\"300\">\n",
    "\n",
    "<circle cx=\"100\" cy=\"100\" r=\"30\" style=\"fill:red\">\n",
    "\n",
    "<animate\n",
    "    attributeName=\"cx\"\n",
    "    from=\"10\"\n",
    "    to=\"800\"\n",
    "    dur=\"3\"\n",
    "    repeatCount=\"indefinite\"\n",
    "    begin=\"click\"/>\n",
    "    \n",
    "</circle>\n",
    "\n",
    "</svg>"
   ]
  },
  {
   "cell_type": "code",
   "execution_count": null,
   "id": "7ec08fa7",
   "metadata": {},
   "outputs": [],
   "source": []
  },
  {
   "cell_type": "code",
   "execution_count": null,
   "id": "df9f26e6",
   "metadata": {},
   "outputs": [],
   "source": []
  },
  {
   "cell_type": "code",
   "execution_count": null,
   "id": "08361c0f",
   "metadata": {},
   "outputs": [],
   "source": []
  },
  {
   "cell_type": "code",
   "execution_count": null,
   "id": "1bd3d286",
   "metadata": {},
   "outputs": [],
   "source": []
  },
  {
   "cell_type": "code",
   "execution_count": null,
   "id": "9829683c",
   "metadata": {},
   "outputs": [],
   "source": []
  },
  {
   "cell_type": "code",
   "execution_count": null,
   "id": "733816cc",
   "metadata": {},
   "outputs": [],
   "source": []
  },
  {
   "cell_type": "code",
   "execution_count": null,
   "id": "4fc89052",
   "metadata": {},
   "outputs": [],
   "source": []
  },
  {
   "cell_type": "code",
   "execution_count": null,
   "id": "845cc4ea",
   "metadata": {},
   "outputs": [],
   "source": []
  },
  {
   "cell_type": "code",
   "execution_count": null,
   "id": "edb01b65",
   "metadata": {},
   "outputs": [],
   "source": []
  },
  {
   "cell_type": "code",
   "execution_count": null,
   "id": "88469699",
   "metadata": {},
   "outputs": [],
   "source": []
  },
  {
   "cell_type": "code",
   "execution_count": null,
   "id": "6765af86",
   "metadata": {},
   "outputs": [],
   "source": []
  },
  {
   "cell_type": "code",
   "execution_count": null,
   "id": "c00fe24b",
   "metadata": {},
   "outputs": [],
   "source": []
  },
  {
   "cell_type": "code",
   "execution_count": null,
   "id": "8212e764",
   "metadata": {},
   "outputs": [],
   "source": []
  },
  {
   "cell_type": "code",
   "execution_count": null,
   "id": "6f9c48ae",
   "metadata": {},
   "outputs": [],
   "source": []
  },
  {
   "cell_type": "code",
   "execution_count": null,
   "id": "1410f7a2",
   "metadata": {},
   "outputs": [],
   "source": []
  },
  {
   "cell_type": "code",
   "execution_count": null,
   "id": "92f8baed",
   "metadata": {},
   "outputs": [],
   "source": []
  },
  {
   "cell_type": "code",
   "execution_count": null,
   "id": "d50ac0b8",
   "metadata": {},
   "outputs": [],
   "source": []
  },
  {
   "cell_type": "code",
   "execution_count": null,
   "id": "81543857",
   "metadata": {},
   "outputs": [],
   "source": []
  },
  {
   "cell_type": "code",
   "execution_count": null,
   "id": "cbe878e2",
   "metadata": {},
   "outputs": [],
   "source": []
  },
  {
   "cell_type": "code",
   "execution_count": null,
   "id": "0786aeed",
   "metadata": {},
   "outputs": [],
   "source": []
  }
 ],
 "metadata": {
  "kernelspec": {
   "display_name": "Python 3 (ipykernel)",
   "language": "python",
   "name": "python3"
  },
  "language_info": {
   "codemirror_mode": {
    "name": "ipython",
    "version": 3
   },
   "file_extension": ".py",
   "mimetype": "text/x-python",
   "name": "python",
   "nbconvert_exporter": "python",
   "pygments_lexer": "ipython3",
   "version": "3.11.4"
  }
 },
 "nbformat": 4,
 "nbformat_minor": 5
}
