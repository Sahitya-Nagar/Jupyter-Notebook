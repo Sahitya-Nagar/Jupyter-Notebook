{
 "cells": [
  {
   "cell_type": "code",
   "execution_count": 1,
   "id": "fcfcfcf6",
   "metadata": {},
   "outputs": [
    {
     "name": "stdout",
     "output_type": "stream",
     "text": [
      "Requirement already satisfied: beautifulsoup4 in c:\\users\\jaimil kothari\\anaconda3\\lib\\site-packages (4.12.2)Note: you may need to restart the kernel to use updated packages.\n",
      "\n",
      "Requirement already satisfied: soupsieve>1.2 in c:\\users\\jaimil kothari\\anaconda3\\lib\\site-packages (from beautifulsoup4) (2.4)\n"
     ]
    }
   ],
   "source": [
    "pip install beautifulsoup4"
   ]
  },
  {
   "cell_type": "code",
   "execution_count": 2,
   "id": "5b7220ca",
   "metadata": {},
   "outputs": [
    {
     "name": "stdout",
     "output_type": "stream",
     "text": [
      "Requirement already satisfied: requests in c:\\users\\jaimil kothari\\anaconda3\\lib\\site-packages (2.31.0)\n",
      "Requirement already satisfied: charset-normalizer<4,>=2 in c:\\users\\jaimil kothari\\anaconda3\\lib\\site-packages (from requests) (2.0.4)\n",
      "Requirement already satisfied: idna<4,>=2.5 in c:\\users\\jaimil kothari\\anaconda3\\lib\\site-packages (from requests) (3.4)\n",
      "Requirement already satisfied: urllib3<3,>=1.21.1 in c:\\users\\jaimil kothari\\anaconda3\\lib\\site-packages (from requests) (1.26.16)\n",
      "Requirement already satisfied: certifi>=2017.4.17 in c:\\users\\jaimil kothari\\anaconda3\\lib\\site-packages (from requests) (2023.7.22)\n",
      "Note: you may need to restart the kernel to use updated packages.\n"
     ]
    }
   ],
   "source": [
    "pip install requests"
   ]
  },
  {
   "cell_type": "code",
   "execution_count": 4,
   "id": "2c491951",
   "metadata": {},
   "outputs": [],
   "source": [
    "from bs4 import BeautifulSoup\n",
    "import requests"
   ]
  },
  {
   "cell_type": "code",
   "execution_count": null,
   "id": "b9c030d8",
   "metadata": {},
   "outputs": [],
   "source": []
  },
  {
   "cell_type": "code",
   "execution_count": 5,
   "id": "1193ad9d",
   "metadata": {},
   "outputs": [],
   "source": [
    "result = requests.get(\"http://www.google.com/\") # it gets the reference of given html page"
   ]
  },
  {
   "cell_type": "code",
   "execution_count": 6,
   "id": "3af5dc9f",
   "metadata": {},
   "outputs": [
    {
     "name": "stdout",
     "output_type": "stream",
     "text": [
      "200\n"
     ]
    }
   ],
   "source": [
    "print(result.status_code)"
   ]
  },
  {
   "cell_type": "code",
   "execution_count": 7,
   "id": "b7f7c6a7",
   "metadata": {},
   "outputs": [
    {
     "name": "stdout",
     "output_type": "stream",
     "text": [
      "{'Date': 'Mon, 23 Oct 2023 10:54:16 GMT', 'Expires': '-1', 'Cache-Control': 'private, max-age=0', 'Content-Type': 'text/html; charset=ISO-8859-1', 'Content-Security-Policy-Report-Only': \"object-src 'none';base-uri 'self';script-src 'nonce-IuOq8dYfKucz4LVeerQ7FA' 'strict-dynamic' 'report-sample' 'unsafe-eval' 'unsafe-inline' https: http:;report-uri https://csp.withgoogle.com/csp/gws/other-hp\", 'P3P': 'CP=\"This is not a P3P policy! See g.co/p3phelp for more info.\"', 'Content-Encoding': 'gzip', 'Server': 'gws', 'Content-Length': '8387', 'X-XSS-Protection': '0', 'X-Frame-Options': 'SAMEORIGIN', 'Set-Cookie': '1P_JAR=2023-10-23-10; expires=Wed, 22-Nov-2023 10:54:16 GMT; path=/; domain=.google.com; Secure, AEC=Ackid1Qy_1jM6vdH7WSMziFF7ngWWtDdlsIrdLtyEXqO5wEuGUEJ-CnAtcI; expires=Sat, 20-Apr-2024 10:54:16 GMT; path=/; domain=.google.com; Secure; HttpOnly; SameSite=lax, NID=511=GRpEYytHcNwkSiivKz41WZHkQs3CvcSQNeRypLpH_-9ipETWTINlnaKzoBf74WKpg8URs3PhURcQMghwSO7gRsc5IOw7VbI9w3jJ7GBHF3T4Prr-PC-_lKVWOA36Pxi8dxa-LF-bBfy0F92_A5vxCQRCT7KSx1X4uD8dhRW3NUw; expires=Tue, 23-Apr-2024 10:54:16 GMT; path=/; domain=.google.com; HttpOnly'}\n"
     ]
    }
   ],
   "source": [
    "print(result.headers)"
   ]
  },
  {
   "cell_type": "code",
   "execution_count": 8,
   "id": "bc7332bc",
   "metadata": {},
   "outputs": [
    {
     "name": "stdout",
     "output_type": "stream",
     "text": [
      "b'<!doctype html><html itemscope=\"\" itemtype=\"http://schema.org/WebPage\" lang=\"en-IN\"><head><meta content=\"text/html; charset=UTF-8\" http-equiv=\"Content-Type\"><meta content=\"/images/branding/googleg/1x/googleg_standard_color_128dp.png\" itemprop=\"image\"><title>Google</title><script nonce=\"IuOq8dYfKucz4LVeerQ7FA\">(function(){var _g={kEI:\\'2FA2ZbvsGKab1sQPgYqlMA\\',kEXPI:\\'0,1365468,206,4804,2316,383,246,5,1129120,1827,1195960,614,380090,16114,28684,22431,1361,283,12033,17583,4998,15066,2009,38444,2872,2891,11754,606,30668,30022,16105,230,1014,1,16916,2652,4,32894,26723,4437,22592,6645,7596,1,11943,30211,2,16737,3533,17736,1755,5679,1021,31121,4568,6256,23421,1249,30155,2912,2,2,1,26632,8155,23351,872,19634,7,1355,567,9779,36284,6175,20199,20136,14,82,7651,5682,6873,8377,8048,10940,5375,782,1484,764,5628,5523,4665,1804,7734,27535,13446,8842,6923,8532,2404,7914,5769,15977,5209124,825,190,2,196,781,5993988,97,2806428,141,795,29230,94,130,85,2,40,7,16,9,7,7,9,8855463,15085468,579,4043528,14297,2376,39457,3209,1216,3,312,1797,3,1165,4,1267,541,1390965,338513,23420757,8163,10336,2709,2879,1594,3554,577,4917,1178,1967,3163,3729,4235,3252,3069,875,2,3,2972,3607,3118,3999,1875,2,2,53,3182,295,2465,4597,3,2155,332,421,2732,1352,2971,2824,1717,1,1,2069,2964,3,1046,7,2757,595,455,4813,2,3,1680,2,6,967,1085,27,6,5,15,1377,3,1047,502,413,836,919,10,684,4,877,975,873,2,14,781,7,220,1326,1509,21,1198,534,2,7,1,1340,746,789,412,453,333,11,5,1301,706,231,1,47,1079,51,260,447,869,23,3,528,2,15,406,114,127,776,2,351,3,572,448,682,6,433,23,503,199,2,3,2,1,198,462,3,671,131,175,241,500,268,3,58,109,315,1524,1943,114,43,49,428,75,78,47,31,10,900,462,4,457,108,377,331,101,3,116,96,106,2,171,872,2181,472,226,30,29,55,2,251,623,2,175,3,481,1450,473,1669,1962,4\\',kBL:\\'p8DK\\',kOPI:89978449};(function(){var a;(null==(a=window.google)?0:a.stvsc)?google.kEI=_g.kEI:window.google=_g;}).call(this);})();(function(){google.sn=\\'webhp\\';google.kHL=\\'en-IN\\';})();(function(){\\nvar h=this||self;function l(){return void 0!==window.google&&void 0!==window.google.kOPI&&0!==window.google.kOPI?window.google.kOPI:null};var m,n=[];function p(a){for(var b;a&&(!a.getAttribute||!(b=a.getAttribute(\"eid\")));)a=a.parentNode;return b||m}function q(a){for(var b=null;a&&(!a.getAttribute||!(b=a.getAttribute(\"leid\")));)a=a.parentNode;return b}function r(a){/^http:/i.test(a)&&\"https:\"===window.location.protocol&&(google.ml&&google.ml(Error(\"a\"),!1,{src:a,glmm:1}),a=\"\");return a}\\nfunction t(a,b,c,d,k){var e=\"\";-1===b.search(\"&ei=\")&&(e=\"&ei=\"+p(d),-1===b.search(\"&lei=\")&&(d=q(d))&&(e+=\"&lei=\"+d));d=\"\";var g=-1===b.search(\"&cshid=\")&&\"slh\"!==a,f=[];f.push([\"zx\",Date.now().toString()]);h._cshid&&g&&f.push([\"cshid\",h._cshid]);c=c();null!=c&&f.push([\"opi\",c.toString()]);for(c=0;c<f.length;c++){if(0===c||0<c)d+=\"&\";d+=f[c][0]+\"=\"+f[c][1]}return\"/\"+(k||\"gen_204\")+\"?atyp=i&ct=\"+String(a)+\"&cad=\"+(b+e+d)};m=google.kEI;google.getEI=p;google.getLEI=q;google.ml=function(){return null};google.log=function(a,b,c,d,k,e){e=void 0===e?l:e;c||(c=t(a,b,e,d,k));if(c=r(c)){a=new Image;var g=n.length;n[g]=a;a.onerror=a.onload=a.onabort=function(){delete n[g]};a.src=c}};google.logUrl=function(a,b){b=void 0===b?l:b;return t(\"\",a,b)};}).call(this);(function(){google.y={};google.sy=[];google.x=function(a,b){if(a)var c=a.id;else{do c=Math.random();while(google.y[c])}google.y[c]=[a,b];return!1};google.sx=function(a){google.sy.push(a)};google.lm=[];google.plm=function(a){google.lm.push.apply(google.lm,a)};google.lq=[];google.load=function(a,b,c){google.lq.push([[a],b,c])};google.loadAll=function(a,b){google.lq.push([a,b])};google.bx=!1;google.lx=function(){};var d=[];google.fce=function(a,b,c,e){d.push([a,b,c,e])};google.qce=d;}).call(this);google.f={};(function(){\\ndocument.documentElement.addEventListener(\"submit\",function(b){var a;if(a=b.target){var c=a.getAttribute(\"data-submitfalse\");a=\"1\"===c||\"q\"===c&&!a.elements.q.value?!0:!1}else a=!1;a&&(b.preventDefault(),b.stopPropagation())},!0);document.documentElement.addEventListener(\"click\",function(b){var a;a:{for(a=b.target;a&&a!==document.documentElement;a=a.parentElement)if(\"A\"===a.tagName){a=\"1\"===a.getAttribute(\"data-nohref\");break a}a=!1}a&&b.preventDefault()},!0);}).call(this);</script><style>#gbar,#guser{font-size:13px;padding-top:1px !important;}#gbar{height:22px}#guser{padding-bottom:7px !important;text-align:right}.gbh,.gbd{border-top:1px solid #c9d7f1;font-size:1px}.gbh{height:0;position:absolute;top:24px;width:100%}@media all{.gb1{height:22px;margin-right:.5em;vertical-align:top}#gbar{float:left}}a.gb1,a.gb4{text-decoration:underline !important}a.gb1,a.gb4{color:#00c !important}.gbi .gb4{color:#dd8e27 !important}.gbf .gb4{color:#900 !important}\\n</style><style>body,td,a,p,.h{font-family:arial,sans-serif}body{margin:0;overflow-y:scroll}#gog{padding:3px 8px 0}td{line-height:.8em}.gac_m td{line-height:17px}form{margin-bottom:20px}.h{color:#1967d2}em{font-weight:bold;font-style:normal}.lst{height:25px;width:496px}.gsfi,.lst{font:18px arial,sans-serif}.gsfs{font:17px arial,sans-serif}.ds{display:inline-box;display:inline-block;margin:3px 0 4px;margin-left:4px}input{font-family:inherit}body{background:#fff;color:#000}a{color:#681da8;text-decoration:none}a:hover,a:active{text-decoration:underline}.fl a{color:#1967d2}a:visited{color:#681da8}.sblc{padding-top:5px}.sblc a{display:block;margin:2px 0;margin-left:13px;font-size:11px}.lsbb{background:#f8f9fa;border:solid 1px;border-color:#dadce0 #70757a #70757a #dadce0;height:30px}.lsbb{display:block}#WqQANb a{display:inline-block;margin:0 12px}.lsb{background:url(/images/nav_logo229.png) 0 -261px repeat-x;color:#000;border:none;cursor:pointer;height:30px;margin:0;outline:0;font:15px arial,sans-serif;vertical-align:top}.lsb:active{background:#dadce0}.lst:focus{outline:none}</style><script nonce=\"IuOq8dYfKucz4LVeerQ7FA\">(function(){window.google.erd={jsr:1,bv:1887,de:true};\\nvar h=this||self;var k,l=null!=(k=h.mei)?k:1,n,p=null!=(n=h.sdo)?n:!0,q=0,r,t=google.erd,v=t.jsr;google.ml=function(a,b,d,m,e){e=void 0===e?2:e;b&&(r=a&&a.message);void 0===d&&(d={});d.cad=\"ple_\"+google.ple+\".aple_\"+google.aple;if(google.dl)return google.dl(a,e,d),null;if(0>v){window.console&&console.error(a,d);if(-2===v)throw a;b=!1}else b=!a||!a.message||\"Error loading script\"===a.message||q>=l&&!m?!1:!0;if(!b)return null;q++;d=d||{};b=encodeURIComponent;var c=\"/gen_204?atyp=i&ei=\"+b(google.kEI);google.kEXPI&&(c+=\"&jexpid=\"+b(google.kEXPI));c+=\"&srcpg=\"+b(google.sn)+\"&jsr=\"+b(t.jsr)+\"&bver=\"+\\nb(t.bv);var f=a.lineNumber;void 0!==f&&(c+=\"&line=\"+f);var g=a.fileName;g&&(0<g.indexOf(\"-extension:/\")&&(e=3),c+=\"&script=\"+b(g),f&&g===window.location.href&&(f=document.documentElement.outerHTML.split(\"\\\\n\")[f],c+=\"&cad=\"+b(f?f.substring(0,300):\"No script found.\")));google.ple&&1===google.ple&&(e=2);c+=\"&jsel=\"+e;for(var u in d)c+=\"&\",c+=b(u),c+=\"=\",c+=b(d[u]);c=c+\"&emsg=\"+b(a.name+\": \"+a.message);c=c+\"&jsst=\"+b(a.stack||\"N/A\");12288<=c.length&&(c=c.substr(0,12288));a=c;m||google.log(0,\"\",a);return a};window.onerror=function(a,b,d,m,e){r!==a&&(a=e instanceof Error?e:Error(a),void 0===d||\"lineNumber\"in a||(a.lineNumber=d),void 0===b||\"fileName\"in a||(a.fileName=b),google.ml(a,!1,void 0,!1,\"SyntaxError\"===a.name||\"SyntaxError\"===a.message.substring(0,11)||-1!==a.message.indexOf(\"Script error\")?3:0));r=null;p&&q>=l&&(window.onerror=null)};})();</script></head><body bgcolor=\"#fff\"><script nonce=\"IuOq8dYfKucz4LVeerQ7FA\">(function(){var src=\\'/images/nav_logo229.png\\';var iesg=false;document.body.onload = function(){window.n && window.n();if (document.images){new Image().src=src;}\\nif (!iesg){document.f&&document.f.q.focus();document.gbqf&&document.gbqf.q.focus();}\\n}\\n})();</script><div id=\"mngb\"><div id=gbar><nobr><b class=gb1>Search</b> <a class=gb1 href=\"https://www.google.com/imghp?hl=en&tab=wi\">Images</a> <a class=gb1 href=\"http://maps.google.co.in/maps?hl=en&tab=wl\">Maps</a> <a class=gb1 href=\"https://play.google.com/?hl=en&tab=w8\">Play</a> <a class=gb1 href=\"https://www.youtube.com/?tab=w1\">YouTube</a> <a class=gb1 href=\"https://news.google.com/?tab=wn\">News</a> <a class=gb1 href=\"https://mail.google.com/mail/?tab=wm\">Gmail</a> <a class=gb1 href=\"https://drive.google.com/?tab=wo\">Drive</a> <a class=gb1 style=\"text-decoration:none\" href=\"https://www.google.co.in/intl/en/about/products?tab=wh\"><u>More</u> &raquo;</a></nobr></div><div id=guser width=100%><nobr><span id=gbn class=gbi></span><span id=gbf class=gbf></span><span id=gbe></span><a href=\"http://www.google.co.in/history/optout?hl=en\" class=gb4>Web History</a> | <a  href=\"/preferences?hl=en\" class=gb4>Settings</a> | <a target=_top id=gb_70 href=\"https://accounts.google.com/ServiceLogin?hl=en&passive=true&continue=http://www.google.com/&ec=GAZAAQ\" class=gb4>Sign in</a></nobr></div><div class=gbh style=left:0></div><div class=gbh style=right:0></div></div><center><br clear=\"all\" id=\"lgpd\"><div id=\"lga\"><img alt=\"Google\" height=\"92\" src=\"/images/branding/googlelogo/1x/googlelogo_white_background_color_272x92dp.png\" style=\"padding:28px 0 14px\" width=\"272\" id=\"hplogo\"><br><br></div><form action=\"/search\" name=\"f\"><table cellpadding=\"0\" cellspacing=\"0\"><tr valign=\"top\"><td width=\"25%\">&nbsp;</td><td align=\"center\" nowrap=\"\"><input name=\"ie\" value=\"ISO-8859-1\" type=\"hidden\"><input value=\"en-IN\" name=\"hl\" type=\"hidden\"><input name=\"source\" type=\"hidden\" value=\"hp\"><input name=\"biw\" type=\"hidden\"><input name=\"bih\" type=\"hidden\"><div class=\"ds\" style=\"height:32px;margin:4px 0\"><input class=\"lst\" style=\"margin:0;padding:5px 8px 0 6px;vertical-align:top;color:#000\" autocomplete=\"off\" value=\"\" title=\"Google Search\" maxlength=\"2048\" name=\"q\" size=\"57\"></div><br style=\"line-height:0\"><span class=\"ds\"><span class=\"lsbb\"><input class=\"lsb\" value=\"Google Search\" name=\"btnG\" type=\"submit\"></span></span><span class=\"ds\"><span class=\"lsbb\"><input class=\"lsb\" id=\"tsuid_1\" value=\"I\\'m Feeling Lucky\" name=\"btnI\" type=\"submit\"><script nonce=\"IuOq8dYfKucz4LVeerQ7FA\">(function(){var id=\\'tsuid_1\\';document.getElementById(id).onclick = function(){if (this.form.q.value){this.checked = 1;if (this.form.iflsig)this.form.iflsig.disabled = false;}\\nelse top.location=\\'/doodles/\\';};})();</script><input value=\"AO6bgOgAAAAAZTZe6L3hwgadt5niZbVLliqqMh-Jc3dW\" name=\"iflsig\" type=\"hidden\"></span></span></td><td class=\"fl sblc\" align=\"left\" nowrap=\"\" width=\"25%\"><a href=\"/advanced_search?hl=en-IN&amp;authuser=0\">Advanced search</a></td></tr></table><input id=\"gbv\" name=\"gbv\" type=\"hidden\" value=\"1\"><script nonce=\"IuOq8dYfKucz4LVeerQ7FA\">(function(){var a,b=\"1\";if(document&&document.getElementById)if(\"undefined\"!=typeof XMLHttpRequest)b=\"2\";else if(\"undefined\"!=typeof ActiveXObject){var c,d,e=[\"MSXML2.XMLHTTP.6.0\",\"MSXML2.XMLHTTP.3.0\",\"MSXML2.XMLHTTP\",\"Microsoft.XMLHTTP\"];for(c=0;d=e[c++];)try{new ActiveXObject(d),b=\"2\"}catch(h){}}a=b;if(\"2\"==a&&-1==location.search.indexOf(\"&gbv=2\")){var f=google.gbvu,g=document.getElementById(\"gbv\");g&&(g.value=a);f&&window.setTimeout(function(){location.href=f},0)};}).call(this);</script></form><div id=\"gac_scont\"></div><div style=\"font-size:83%;min-height:3.5em\"><br><div id=\"gws-output-pages-elements-homepage_additional_languages__als\"><style>#gws-output-pages-elements-homepage_additional_languages__als{font-size:small;margin-bottom:24px}#SIvCob{color:#3c4043;display:inline-block;line-height:28px;}#SIvCob a{padding:0 3px;}.H6sW5{display:inline-block;margin:0 2px;white-space:nowrap}.z4hgWe{display:inline-block;margin:0 2px}</style><div id=\"SIvCob\">Google offered in:  <a href=\"http://www.google.com/setprefs?sig=0_MPAGhxElCQgAbyij1SNxjG8kN4U%3D&amp;hl=hi&amp;source=homepage&amp;sa=X&amp;ved=0ahUKEwi7uOjYgIyCAxWmjZUCHQFFCQYQ2ZgBCAU\">&#2361;&#2367;&#2344;&#2381;&#2342;&#2368;</a>    <a href=\"http://www.google.com/setprefs?sig=0_MPAGhxElCQgAbyij1SNxjG8kN4U%3D&amp;hl=bn&amp;source=homepage&amp;sa=X&amp;ved=0ahUKEwi7uOjYgIyCAxWmjZUCHQFFCQYQ2ZgBCAY\">&#2476;&#2494;&#2434;&#2482;&#2494;</a>    <a href=\"http://www.google.com/setprefs?sig=0_MPAGhxElCQgAbyij1SNxjG8kN4U%3D&amp;hl=te&amp;source=homepage&amp;sa=X&amp;ved=0ahUKEwi7uOjYgIyCAxWmjZUCHQFFCQYQ2ZgBCAc\">&#3108;&#3142;&#3122;&#3137;&#3095;&#3137;</a>    <a href=\"http://www.google.com/setprefs?sig=0_MPAGhxElCQgAbyij1SNxjG8kN4U%3D&amp;hl=mr&amp;source=homepage&amp;sa=X&amp;ved=0ahUKEwi7uOjYgIyCAxWmjZUCHQFFCQYQ2ZgBCAg\">&#2350;&#2352;&#2366;&#2336;&#2368;</a>    <a href=\"http://www.google.com/setprefs?sig=0_MPAGhxElCQgAbyij1SNxjG8kN4U%3D&amp;hl=ta&amp;source=homepage&amp;sa=X&amp;ved=0ahUKEwi7uOjYgIyCAxWmjZUCHQFFCQYQ2ZgBCAk\">&#2980;&#2990;&#3007;&#2996;&#3021;</a>    <a href=\"http://www.google.com/setprefs?sig=0_MPAGhxElCQgAbyij1SNxjG8kN4U%3D&amp;hl=gu&amp;source=homepage&amp;sa=X&amp;ved=0ahUKEwi7uOjYgIyCAxWmjZUCHQFFCQYQ2ZgBCAo\">&#2711;&#2753;&#2716;&#2736;&#2750;&#2724;&#2752;</a>    <a href=\"http://www.google.com/setprefs?sig=0_MPAGhxElCQgAbyij1SNxjG8kN4U%3D&amp;hl=kn&amp;source=homepage&amp;sa=X&amp;ved=0ahUKEwi7uOjYgIyCAxWmjZUCHQFFCQYQ2ZgBCAs\">&#3221;&#3240;&#3277;&#3240;&#3233;</a>    <a href=\"http://www.google.com/setprefs?sig=0_MPAGhxElCQgAbyij1SNxjG8kN4U%3D&amp;hl=ml&amp;source=homepage&amp;sa=X&amp;ved=0ahUKEwi7uOjYgIyCAxWmjZUCHQFFCQYQ2ZgBCAw\">&#3374;&#3378;&#3375;&#3390;&#3379;&#3330;</a>    <a href=\"http://www.google.com/setprefs?sig=0_MPAGhxElCQgAbyij1SNxjG8kN4U%3D&amp;hl=pa&amp;source=homepage&amp;sa=X&amp;ved=0ahUKEwi7uOjYgIyCAxWmjZUCHQFFCQYQ2ZgBCA0\">&#2602;&#2672;&#2588;&#2622;&#2604;&#2624;</a>  </div></div></div><span id=\"footer\"><div style=\"font-size:10pt\"><div style=\"margin:19px auto;text-align:center\" id=\"WqQANb\"><a href=\"/intl/en/ads/\">Advertising</a><a href=\"http://www.google.co.in/services/\">Business Solutions</a><a href=\"/intl/en/about.html\">About Google</a><a href=\"http://www.google.com/setprefdomain?prefdom=IN&amp;prev=http://www.google.co.in/&amp;sig=K_wmwOs9aopCG3O6QW4laAKxKr3QM%3D\">Google.co.in</a></div></div><p style=\"font-size:8pt;color:#70757a\">&copy; 2023 - <a href=\"/intl/en/policies/privacy/\">Privacy</a> - <a href=\"/intl/en/policies/terms/\">Terms</a></p></span></center><script nonce=\"IuOq8dYfKucz4LVeerQ7FA\">(function(){window.google.cdo={height:757,width:1440};(function(){var a=window.innerWidth,b=window.innerHeight;if(!a||!b){var c=window.document,d=\"CSS1Compat\"==c.compatMode?c.documentElement:c.body;a=d.clientWidth;b=d.clientHeight}\\nif(a&&b&&(a!=google.cdo.width||b!=google.cdo.height)){var e=google,f=e.log,g=\"/client_204?&atyp=i&biw=\"+a+\"&bih=\"+b+\"&ei=\"+google.kEI,h=\"\",k=[],l=void 0!==window.google&&void 0!==window.google.kOPI&&0!==window.google.kOPI?window.google.kOPI:null;null!=l&&k.push([\"opi\",l.toString()]);for(var m=0;m<k.length;m++){if(0===m||0<m)h+=\"&\";h+=k[m][0]+\"=\"+k[m][1]}f.call(e,\"\",\"\",g+h)};}).call(this);})();</script> <script nonce=\"IuOq8dYfKucz4LVeerQ7FA\">(function(){google.xjs={ck:\\'xjs.hp.KyKuuSDuphM.L.X.O\\',cs:\\'ACT90oGNiVOgUn1GVgzGQFHRHtWgEZND0A\\',cssopt:false,csss:\\'ACT90oGy_7MtmpeDDXIDwD4FtWvogRNZjA\\',excm:[],sepcss:false};})();</script>     <script nonce=\"IuOq8dYfKucz4LVeerQ7FA\">(function(){var u=\\'/xjs/_/js/k\\\\x3dxjs.hp.en.wLOnoTYhcK0.O/am\\\\x3dAAAAAAAAAAAAAAAAAAAAAAIAAAAAQAEAAQIAAAAAAAAAIAAAHQEAsAAAFw/d\\\\x3d1/ed\\\\x3d1/rs\\\\x3dACT90oFA7LHiJ-VV1j_HBWbaeTfbBxx0iQ/m\\\\x3dsb_he,d,cEt90b,SNUn3,qddgKe,sTsDMc,dtl0hd,eHDfl\\';var amd=0;\\nvar e=this||self,f=function(a){return a};var g;var h=function(a){this.g=a};h.prototype.toString=function(){return this.g+\"\"};var k={};var l=function(){var a=document;var b=\"SCRIPT\";\"application/xhtml+xml\"===a.contentType&&(b=b.toLowerCase());return a.createElement(b)};\\nfunction m(a,b){a.src=b instanceof h&&b.constructor===h?b.g:\"type_error:TrustedResourceUrl\";var c,d;(c=(b=null==(d=(c=(a.ownerDocument&&a.ownerDocument.defaultView||window).document).querySelector)?void 0:d.call(c,\"script[nonce]\"))?b.nonce||b.getAttribute(\"nonce\")||\"\":\"\")&&a.setAttribute(\"nonce\",c)};function n(a){a=null===a?\"null\":void 0===a?\"undefined\":a;if(void 0===g){var b=null;var c=e.trustedTypes;if(c&&c.createPolicy){try{b=c.createPolicy(\"goog#html\",{createHTML:f,createScript:f,createScriptURL:f})}catch(d){e.console&&e.console.error(d.message)}g=b}else g=b}a=(b=g)?b.createScriptURL(a):a;return new h(a,k)};void 0===google.ps&&(google.ps=[]);function p(){var a=u,b=function(){};google.lx=google.stvsc?b:function(){q(a);google.lx=b};google.bx||google.lx()}function r(a,b){b&&m(a,n(b));var c=a.onload;a.onload=function(d){c&&c(d);google.ps=google.ps.filter(function(t){return a!==t})};google.ps.push(a);document.body.appendChild(a)}google.as=r;function q(a){google.timers&&google.timers.load&&google.tick&&google.tick(\"load\",\"xjsls\");var b=l();b.onerror=function(){google.ple=1};b.onload=function(){google.ple=0};google.xjsus=void 0;r(b,a);google.aple=-1;google.psa=!0};google.xjsu=u;e._F_jsUrl=u;setTimeout(function(){0<amd?google.caft(function(){return p()},amd):p()},0);})();window._ = window._ || {};window._DumpException = _._DumpException = function(e){throw e;};window._s = window._s || {};_s._DumpException = _._DumpException;window._qs = window._qs || {};_qs._DumpException = _._DumpException;(function(){var t=[1,0,0,0,512,83886144,2101248,0,536871168,74711040,720896,1472];window._F_toggles = window._xjs_toggles = t;})();function _F_installCss(c){}\\n(function(){google.jl={blt:\\'none\\',chnk:0,dw:false,dwu:true,emtn:0,end:0,ico:false,ikb:0,ine:false,injs:\\'none\\',injt:0,injth:0,injv2:false,lls:\\'default\\',pdt:0,rep:0,snet:true,strt:0,ubm:false,uwp:true};})();(function(){var pmc=\\'{\\\\x22d\\\\x22:{},\\\\x22sb_he\\\\x22:{\\\\x22agen\\\\x22:true,\\\\x22cgen\\\\x22:true,\\\\x22client\\\\x22:\\\\x22heirloom-hp\\\\x22,\\\\x22dh\\\\x22:true,\\\\x22ds\\\\x22:\\\\x22\\\\x22,\\\\x22fl\\\\x22:true,\\\\x22host\\\\x22:\\\\x22google.com\\\\x22,\\\\x22jsonp\\\\x22:true,\\\\x22msgs\\\\x22:{\\\\x22cibl\\\\x22:\\\\x22Clear Search\\\\x22,\\\\x22dym\\\\x22:\\\\x22Did you mean:\\\\x22,\\\\x22lcky\\\\x22:\\\\x22I\\\\\\\\u0026#39;m Feeling Lucky\\\\x22,\\\\x22lml\\\\x22:\\\\x22Learn more\\\\x22,\\\\x22psrc\\\\x22:\\\\x22This search was removed from your \\\\\\\\u003Ca href\\\\x3d\\\\\\\\\\\\x22/history\\\\\\\\\\\\x22\\\\\\\\u003EWeb History\\\\\\\\u003C/a\\\\\\\\u003E\\\\x22,\\\\x22psrl\\\\x22:\\\\x22Remove\\\\x22,\\\\x22sbit\\\\x22:\\\\x22Search by image\\\\x22,\\\\x22srch\\\\x22:\\\\x22Google Search\\\\x22},\\\\x22ovr\\\\x22:{},\\\\x22pq\\\\x22:\\\\x22\\\\x22,\\\\x22rfs\\\\x22:[],\\\\x22sbas\\\\x22:\\\\x220 3px 8px 0 rgba(0,0,0,0.2),0 0 0 1px rgba(0,0,0,0.08)\\\\x22,\\\\x22stok\\\\x22:\\\\x22WDm0-mrJABWJorGPzRc5S67Nf38\\\\x22}}\\';google.pmc=JSON.parse(pmc);})();(function(){var b=function(a){var c=0;return function(){return c<a.length?{done:!1,value:a[c++]}:{done:!0}}};\\nvar e=this||self;var g,h;a:{for(var k=[\"CLOSURE_FLAGS\"],l=e,n=0;n<k.length;n++)if(l=l[k[n]],null==l){h=null;break a}h=l}var p=h&&h[610401301];g=null!=p?p:!1;var q,r=e.navigator;q=r?r.userAgentData||null:null;function t(a){return g?q?q.brands.some(function(c){return(c=c.brand)&&-1!=c.indexOf(a)}):!1:!1}function u(a){var c;a:{if(c=e.navigator)if(c=c.userAgent)break a;c=\"\"}return-1!=c.indexOf(a)};function v(){return g?!!q&&0<q.brands.length:!1}function w(){return u(\"Safari\")&&!(x()||(v()?0:u(\"Coast\"))||(v()?0:u(\"Opera\"))||(v()?0:u(\"Edge\"))||(v()?t(\"Microsoft Edge\"):u(\"Edg/\"))||(v()?t(\"Opera\"):u(\"OPR\"))||u(\"Firefox\")||u(\"FxiOS\")||u(\"Silk\")||u(\"Android\"))}function x(){return v()?t(\"Chromium\"):(u(\"Chrome\")||u(\"CriOS\"))&&!(v()?0:u(\"Edge\"))||u(\"Silk\")}function y(){return u(\"Android\")&&!(x()||u(\"Firefox\")||u(\"FxiOS\")||(v()?0:u(\"Opera\"))||u(\"Silk\"))};var z=v()?!1:u(\"Trident\")||u(\"MSIE\");y();x();w();Object.freeze({});var A=!z&&!w(),D=function(a){if(/-[a-z]/.test(\"ved\"))return null;if(A&&a.dataset){if(y()&&!(\"ved\"in a.dataset))return null;a=a.dataset.ved;return void 0===a?null:a}return a.getAttribute(\"data-\"+\"ved\".replace(/([A-Z])/g,\"-$1\").toLowerCase())};var E=[],F=null;function G(a){a=a.target;var c=performance.now(),f=[],H=f.concat,d=E;if(!(d instanceof Array)){var m=\"undefined\"!=typeof Symbol&&Symbol.iterator&&d[Symbol.iterator];if(m)d=m.call(d);else if(\"number\"==typeof d.length)d={next:b(d)};else throw Error(\"a`\"+String(d));for(var B=[];!(m=d.next()).done;)B.push(m.value);d=B}E=H.call(f,d,[c]);if(a&&a instanceof HTMLElement)if(a===F){if(c=4<=E.length)c=5>(E[E.length-1]-E[E.length-4])/1E3;if(c){c=google.getEI(a);a.hasAttribute(\"data-ved\")?f=a?D(a)||\"\":\"\":f=(f=\\na.closest(\"[data-ved]\"))?D(f)||\"\":\"\";f=f||\"\";if(a.hasAttribute(\"jsname\"))a=a.getAttribute(\"jsname\");else{var C;a=null==(C=a.closest(\"[jsname]\"))?void 0:C.getAttribute(\"jsname\")}google.log(\"rcm\",\"&ei=\"+c+\"&ved=\"+f+\"&jsname=\"+(a||\"\"))}}else F=a,E=[c]}window.document.addEventListener(\"DOMContentLoaded\",function(){document.body.addEventListener(\"click\",G)});}).call(this);</script></body></html>'\n"
     ]
    }
   ],
   "source": [
    "src = result.content\n",
    "print(src)"
   ]
  },
  {
   "cell_type": "code",
   "execution_count": 9,
   "id": "2baa0486",
   "metadata": {},
   "outputs": [],
   "source": [
    "soup = BeautifulSoup(src,'lxml') # it is html parser"
   ]
  },
  {
   "cell_type": "code",
   "execution_count": 10,
   "id": "3f21c770",
   "metadata": {},
   "outputs": [
    {
     "name": "stdout",
     "output_type": "stream",
     "text": [
      "<a class=\"gb1\" href=\"https://www.google.com/imghp?hl=en&amp;tab=wi\">Images</a>\n"
     ]
    }
   ],
   "source": [
    "link = soup.find('a') # it fetches first anchor tag from source\n",
    "print(link)"
   ]
  },
  {
   "cell_type": "code",
   "execution_count": 11,
   "id": "154676d8",
   "metadata": {},
   "outputs": [
    {
     "name": "stdout",
     "output_type": "stream",
     "text": [
      "<a class=\"gb1\" href=\"https://www.google.com/imghp?hl=en&amp;tab=wi\">Images</a>\n",
      "<a class=\"gb1\" href=\"http://maps.google.co.in/maps?hl=en&amp;tab=wl\">Maps</a>\n",
      "<a class=\"gb1\" href=\"https://play.google.com/?hl=en&amp;tab=w8\">Play</a>\n",
      "<a class=\"gb1\" href=\"https://www.youtube.com/?tab=w1\">YouTube</a>\n",
      "<a class=\"gb1\" href=\"https://news.google.com/?tab=wn\">News</a>\n",
      "<a class=\"gb1\" href=\"https://mail.google.com/mail/?tab=wm\">Gmail</a>\n",
      "<a class=\"gb1\" href=\"https://drive.google.com/?tab=wo\">Drive</a>\n",
      "<a class=\"gb1\" href=\"https://www.google.co.in/intl/en/about/products?tab=wh\" style=\"text-decoration:none\"><u>More</u> »</a>\n",
      "<a class=\"gb4\" href=\"http://www.google.co.in/history/optout?hl=en\">Web History</a>\n",
      "<a class=\"gb4\" href=\"/preferences?hl=en\">Settings</a>\n",
      "<a class=\"gb4\" href=\"https://accounts.google.com/ServiceLogin?hl=en&amp;passive=true&amp;continue=http://www.google.com/&amp;ec=GAZAAQ\" id=\"gb_70\" target=\"_top\">Sign in</a>\n",
      "<a href=\"/advanced_search?hl=en-IN&amp;authuser=0\">Advanced search</a>\n",
      "<a href=\"http://www.google.com/setprefs?sig=0_MPAGhxElCQgAbyij1SNxjG8kN4U%3D&amp;hl=hi&amp;source=homepage&amp;sa=X&amp;ved=0ahUKEwi7uOjYgIyCAxWmjZUCHQFFCQYQ2ZgBCAU\">हिन्दी</a>\n",
      "<a href=\"http://www.google.com/setprefs?sig=0_MPAGhxElCQgAbyij1SNxjG8kN4U%3D&amp;hl=bn&amp;source=homepage&amp;sa=X&amp;ved=0ahUKEwi7uOjYgIyCAxWmjZUCHQFFCQYQ2ZgBCAY\">বাংলা</a>\n",
      "<a href=\"http://www.google.com/setprefs?sig=0_MPAGhxElCQgAbyij1SNxjG8kN4U%3D&amp;hl=te&amp;source=homepage&amp;sa=X&amp;ved=0ahUKEwi7uOjYgIyCAxWmjZUCHQFFCQYQ2ZgBCAc\">తెలుగు</a>\n",
      "<a href=\"http://www.google.com/setprefs?sig=0_MPAGhxElCQgAbyij1SNxjG8kN4U%3D&amp;hl=mr&amp;source=homepage&amp;sa=X&amp;ved=0ahUKEwi7uOjYgIyCAxWmjZUCHQFFCQYQ2ZgBCAg\">मराठी</a>\n",
      "<a href=\"http://www.google.com/setprefs?sig=0_MPAGhxElCQgAbyij1SNxjG8kN4U%3D&amp;hl=ta&amp;source=homepage&amp;sa=X&amp;ved=0ahUKEwi7uOjYgIyCAxWmjZUCHQFFCQYQ2ZgBCAk\">தமிழ்</a>\n",
      "<a href=\"http://www.google.com/setprefs?sig=0_MPAGhxElCQgAbyij1SNxjG8kN4U%3D&amp;hl=gu&amp;source=homepage&amp;sa=X&amp;ved=0ahUKEwi7uOjYgIyCAxWmjZUCHQFFCQYQ2ZgBCAo\">ગુજરાતી</a>\n",
      "<a href=\"http://www.google.com/setprefs?sig=0_MPAGhxElCQgAbyij1SNxjG8kN4U%3D&amp;hl=kn&amp;source=homepage&amp;sa=X&amp;ved=0ahUKEwi7uOjYgIyCAxWmjZUCHQFFCQYQ2ZgBCAs\">ಕನ್ನಡ</a>\n",
      "<a href=\"http://www.google.com/setprefs?sig=0_MPAGhxElCQgAbyij1SNxjG8kN4U%3D&amp;hl=ml&amp;source=homepage&amp;sa=X&amp;ved=0ahUKEwi7uOjYgIyCAxWmjZUCHQFFCQYQ2ZgBCAw\">മലയാളം</a>\n",
      "<a href=\"http://www.google.com/setprefs?sig=0_MPAGhxElCQgAbyij1SNxjG8kN4U%3D&amp;hl=pa&amp;source=homepage&amp;sa=X&amp;ved=0ahUKEwi7uOjYgIyCAxWmjZUCHQFFCQYQ2ZgBCA0\">ਪੰਜਾਬੀ</a>\n",
      "<a href=\"/intl/en/ads/\">Advertising</a>\n",
      "<a href=\"http://www.google.co.in/services/\">Business Solutions</a>\n",
      "<a href=\"/intl/en/about.html\">About Google</a>\n",
      "<a href=\"http://www.google.com/setprefdomain?prefdom=IN&amp;prev=http://www.google.co.in/&amp;sig=K_wmwOs9aopCG3O6QW4laAKxKr3QM%3D\">Google.co.in</a>\n",
      "<a href=\"/intl/en/policies/privacy/\">Privacy</a>\n",
      "<a href=\"/intl/en/policies/terms/\">Terms</a>\n"
     ]
    }
   ],
   "source": [
    "links = soup.findAll('a')\n",
    "for link in links :\n",
    "    print(link)"
   ]
  },
  {
   "cell_type": "code",
   "execution_count": 15,
   "id": "c8b2bf83",
   "metadata": {},
   "outputs": [
    {
     "name": "stdout",
     "output_type": "stream",
     "text": [
      "Enter A Tag : div\n",
      "<div id=\"mngb\"><div id=\"gbar\"><nobr><b class=\"gb1\">Search</b> <a class=\"gb1\" href=\"https://www.google.com/imghp?hl=en&amp;tab=wi\">Images</a> <a class=\"gb1\" href=\"http://maps.google.co.in/maps?hl=en&amp;tab=wl\">Maps</a> <a class=\"gb1\" href=\"https://play.google.com/?hl=en&amp;tab=w8\">Play</a> <a class=\"gb1\" href=\"https://www.youtube.com/?tab=w1\">YouTube</a> <a class=\"gb1\" href=\"https://news.google.com/?tab=wn\">News</a> <a class=\"gb1\" href=\"https://mail.google.com/mail/?tab=wm\">Gmail</a> <a class=\"gb1\" href=\"https://drive.google.com/?tab=wo\">Drive</a> <a class=\"gb1\" href=\"https://www.google.co.in/intl/en/about/products?tab=wh\" style=\"text-decoration:none\"><u>More</u> »</a></nobr></div><div id=\"guser\" width=\"100%\"><nobr><span class=\"gbi\" id=\"gbn\"></span><span class=\"gbf\" id=\"gbf\"></span><span id=\"gbe\"></span><a class=\"gb4\" href=\"http://www.google.co.in/history/optout?hl=en\">Web History</a> | <a class=\"gb4\" href=\"/preferences?hl=en\">Settings</a> | <a class=\"gb4\" href=\"https://accounts.google.com/ServiceLogin?hl=en&amp;passive=true&amp;continue=http://www.google.com/&amp;ec=GAZAAQ\" id=\"gb_70\" target=\"_top\">Sign in</a></nobr></div><div class=\"gbh\" style=\"left:0\"></div><div class=\"gbh\" style=\"right:0\"></div></div>\n",
      "<div id=\"gbar\"><nobr><b class=\"gb1\">Search</b> <a class=\"gb1\" href=\"https://www.google.com/imghp?hl=en&amp;tab=wi\">Images</a> <a class=\"gb1\" href=\"http://maps.google.co.in/maps?hl=en&amp;tab=wl\">Maps</a> <a class=\"gb1\" href=\"https://play.google.com/?hl=en&amp;tab=w8\">Play</a> <a class=\"gb1\" href=\"https://www.youtube.com/?tab=w1\">YouTube</a> <a class=\"gb1\" href=\"https://news.google.com/?tab=wn\">News</a> <a class=\"gb1\" href=\"https://mail.google.com/mail/?tab=wm\">Gmail</a> <a class=\"gb1\" href=\"https://drive.google.com/?tab=wo\">Drive</a> <a class=\"gb1\" href=\"https://www.google.co.in/intl/en/about/products?tab=wh\" style=\"text-decoration:none\"><u>More</u> »</a></nobr></div>\n",
      "<div id=\"guser\" width=\"100%\"><nobr><span class=\"gbi\" id=\"gbn\"></span><span class=\"gbf\" id=\"gbf\"></span><span id=\"gbe\"></span><a class=\"gb4\" href=\"http://www.google.co.in/history/optout?hl=en\">Web History</a> | <a class=\"gb4\" href=\"/preferences?hl=en\">Settings</a> | <a class=\"gb4\" href=\"https://accounts.google.com/ServiceLogin?hl=en&amp;passive=true&amp;continue=http://www.google.com/&amp;ec=GAZAAQ\" id=\"gb_70\" target=\"_top\">Sign in</a></nobr></div>\n",
      "<div class=\"gbh\" style=\"left:0\"></div>\n",
      "<div class=\"gbh\" style=\"right:0\"></div>\n",
      "<div id=\"lga\"><img alt=\"Google\" height=\"92\" id=\"hplogo\" src=\"/images/branding/googlelogo/1x/googlelogo_white_background_color_272x92dp.png\" style=\"padding:28px 0 14px\" width=\"272\"/><br/><br/></div>\n",
      "<div class=\"ds\" style=\"height:32px;margin:4px 0\"><input autocomplete=\"off\" class=\"lst\" maxlength=\"2048\" name=\"q\" size=\"57\" style=\"margin:0;padding:5px 8px 0 6px;vertical-align:top;color:#000\" title=\"Google Search\" value=\"\"/></div>\n",
      "<div id=\"gac_scont\"></div>\n",
      "<div style=\"font-size:83%;min-height:3.5em\"><br/><div id=\"gws-output-pages-elements-homepage_additional_languages__als\"><style>#gws-output-pages-elements-homepage_additional_languages__als{font-size:small;margin-bottom:24px}#SIvCob{color:#3c4043;display:inline-block;line-height:28px;}#SIvCob a{padding:0 3px;}.H6sW5{display:inline-block;margin:0 2px;white-space:nowrap}.z4hgWe{display:inline-block;margin:0 2px}</style><div id=\"SIvCob\">Google offered in:  <a href=\"http://www.google.com/setprefs?sig=0_MPAGhxElCQgAbyij1SNxjG8kN4U%3D&amp;hl=hi&amp;source=homepage&amp;sa=X&amp;ved=0ahUKEwi7uOjYgIyCAxWmjZUCHQFFCQYQ2ZgBCAU\">हिन्दी</a> <a href=\"http://www.google.com/setprefs?sig=0_MPAGhxElCQgAbyij1SNxjG8kN4U%3D&amp;hl=bn&amp;source=homepage&amp;sa=X&amp;ved=0ahUKEwi7uOjYgIyCAxWmjZUCHQFFCQYQ2ZgBCAY\">বাংলা</a> <a href=\"http://www.google.com/setprefs?sig=0_MPAGhxElCQgAbyij1SNxjG8kN4U%3D&amp;hl=te&amp;source=homepage&amp;sa=X&amp;ved=0ahUKEwi7uOjYgIyCAxWmjZUCHQFFCQYQ2ZgBCAc\">తెలుగు</a> <a href=\"http://www.google.com/setprefs?sig=0_MPAGhxElCQgAbyij1SNxjG8kN4U%3D&amp;hl=mr&amp;source=homepage&amp;sa=X&amp;ved=0ahUKEwi7uOjYgIyCAxWmjZUCHQFFCQYQ2ZgBCAg\">मराठी</a> <a href=\"http://www.google.com/setprefs?sig=0_MPAGhxElCQgAbyij1SNxjG8kN4U%3D&amp;hl=ta&amp;source=homepage&amp;sa=X&amp;ved=0ahUKEwi7uOjYgIyCAxWmjZUCHQFFCQYQ2ZgBCAk\">தமிழ்</a> <a href=\"http://www.google.com/setprefs?sig=0_MPAGhxElCQgAbyij1SNxjG8kN4U%3D&amp;hl=gu&amp;source=homepage&amp;sa=X&amp;ved=0ahUKEwi7uOjYgIyCAxWmjZUCHQFFCQYQ2ZgBCAo\">ગુજરાતી</a> <a href=\"http://www.google.com/setprefs?sig=0_MPAGhxElCQgAbyij1SNxjG8kN4U%3D&amp;hl=kn&amp;source=homepage&amp;sa=X&amp;ved=0ahUKEwi7uOjYgIyCAxWmjZUCHQFFCQYQ2ZgBCAs\">ಕನ್ನಡ</a> <a href=\"http://www.google.com/setprefs?sig=0_MPAGhxElCQgAbyij1SNxjG8kN4U%3D&amp;hl=ml&amp;source=homepage&amp;sa=X&amp;ved=0ahUKEwi7uOjYgIyCAxWmjZUCHQFFCQYQ2ZgBCAw\">മലയാളം</a> <a href=\"http://www.google.com/setprefs?sig=0_MPAGhxElCQgAbyij1SNxjG8kN4U%3D&amp;hl=pa&amp;source=homepage&amp;sa=X&amp;ved=0ahUKEwi7uOjYgIyCAxWmjZUCHQFFCQYQ2ZgBCA0\">ਪੰਜਾਬੀ</a> </div></div></div>\n",
      "<div id=\"gws-output-pages-elements-homepage_additional_languages__als\"><style>#gws-output-pages-elements-homepage_additional_languages__als{font-size:small;margin-bottom:24px}#SIvCob{color:#3c4043;display:inline-block;line-height:28px;}#SIvCob a{padding:0 3px;}.H6sW5{display:inline-block;margin:0 2px;white-space:nowrap}.z4hgWe{display:inline-block;margin:0 2px}</style><div id=\"SIvCob\">Google offered in:  <a href=\"http://www.google.com/setprefs?sig=0_MPAGhxElCQgAbyij1SNxjG8kN4U%3D&amp;hl=hi&amp;source=homepage&amp;sa=X&amp;ved=0ahUKEwi7uOjYgIyCAxWmjZUCHQFFCQYQ2ZgBCAU\">हिन्दी</a> <a href=\"http://www.google.com/setprefs?sig=0_MPAGhxElCQgAbyij1SNxjG8kN4U%3D&amp;hl=bn&amp;source=homepage&amp;sa=X&amp;ved=0ahUKEwi7uOjYgIyCAxWmjZUCHQFFCQYQ2ZgBCAY\">বাংলা</a> <a href=\"http://www.google.com/setprefs?sig=0_MPAGhxElCQgAbyij1SNxjG8kN4U%3D&amp;hl=te&amp;source=homepage&amp;sa=X&amp;ved=0ahUKEwi7uOjYgIyCAxWmjZUCHQFFCQYQ2ZgBCAc\">తెలుగు</a> <a href=\"http://www.google.com/setprefs?sig=0_MPAGhxElCQgAbyij1SNxjG8kN4U%3D&amp;hl=mr&amp;source=homepage&amp;sa=X&amp;ved=0ahUKEwi7uOjYgIyCAxWmjZUCHQFFCQYQ2ZgBCAg\">मराठी</a> <a href=\"http://www.google.com/setprefs?sig=0_MPAGhxElCQgAbyij1SNxjG8kN4U%3D&amp;hl=ta&amp;source=homepage&amp;sa=X&amp;ved=0ahUKEwi7uOjYgIyCAxWmjZUCHQFFCQYQ2ZgBCAk\">தமிழ்</a> <a href=\"http://www.google.com/setprefs?sig=0_MPAGhxElCQgAbyij1SNxjG8kN4U%3D&amp;hl=gu&amp;source=homepage&amp;sa=X&amp;ved=0ahUKEwi7uOjYgIyCAxWmjZUCHQFFCQYQ2ZgBCAo\">ગુજરાતી</a> <a href=\"http://www.google.com/setprefs?sig=0_MPAGhxElCQgAbyij1SNxjG8kN4U%3D&amp;hl=kn&amp;source=homepage&amp;sa=X&amp;ved=0ahUKEwi7uOjYgIyCAxWmjZUCHQFFCQYQ2ZgBCAs\">ಕನ್ನಡ</a> <a href=\"http://www.google.com/setprefs?sig=0_MPAGhxElCQgAbyij1SNxjG8kN4U%3D&amp;hl=ml&amp;source=homepage&amp;sa=X&amp;ved=0ahUKEwi7uOjYgIyCAxWmjZUCHQFFCQYQ2ZgBCAw\">മലയാളം</a> <a href=\"http://www.google.com/setprefs?sig=0_MPAGhxElCQgAbyij1SNxjG8kN4U%3D&amp;hl=pa&amp;source=homepage&amp;sa=X&amp;ved=0ahUKEwi7uOjYgIyCAxWmjZUCHQFFCQYQ2ZgBCA0\">ਪੰਜਾਬੀ</a> </div></div>\n",
      "<div id=\"SIvCob\">Google offered in:  <a href=\"http://www.google.com/setprefs?sig=0_MPAGhxElCQgAbyij1SNxjG8kN4U%3D&amp;hl=hi&amp;source=homepage&amp;sa=X&amp;ved=0ahUKEwi7uOjYgIyCAxWmjZUCHQFFCQYQ2ZgBCAU\">हिन्दी</a> <a href=\"http://www.google.com/setprefs?sig=0_MPAGhxElCQgAbyij1SNxjG8kN4U%3D&amp;hl=bn&amp;source=homepage&amp;sa=X&amp;ved=0ahUKEwi7uOjYgIyCAxWmjZUCHQFFCQYQ2ZgBCAY\">বাংলা</a> <a href=\"http://www.google.com/setprefs?sig=0_MPAGhxElCQgAbyij1SNxjG8kN4U%3D&amp;hl=te&amp;source=homepage&amp;sa=X&amp;ved=0ahUKEwi7uOjYgIyCAxWmjZUCHQFFCQYQ2ZgBCAc\">తెలుగు</a> <a href=\"http://www.google.com/setprefs?sig=0_MPAGhxElCQgAbyij1SNxjG8kN4U%3D&amp;hl=mr&amp;source=homepage&amp;sa=X&amp;ved=0ahUKEwi7uOjYgIyCAxWmjZUCHQFFCQYQ2ZgBCAg\">मराठी</a> <a href=\"http://www.google.com/setprefs?sig=0_MPAGhxElCQgAbyij1SNxjG8kN4U%3D&amp;hl=ta&amp;source=homepage&amp;sa=X&amp;ved=0ahUKEwi7uOjYgIyCAxWmjZUCHQFFCQYQ2ZgBCAk\">தமிழ்</a> <a href=\"http://www.google.com/setprefs?sig=0_MPAGhxElCQgAbyij1SNxjG8kN4U%3D&amp;hl=gu&amp;source=homepage&amp;sa=X&amp;ved=0ahUKEwi7uOjYgIyCAxWmjZUCHQFFCQYQ2ZgBCAo\">ગુજરાતી</a> <a href=\"http://www.google.com/setprefs?sig=0_MPAGhxElCQgAbyij1SNxjG8kN4U%3D&amp;hl=kn&amp;source=homepage&amp;sa=X&amp;ved=0ahUKEwi7uOjYgIyCAxWmjZUCHQFFCQYQ2ZgBCAs\">ಕನ್ನಡ</a> <a href=\"http://www.google.com/setprefs?sig=0_MPAGhxElCQgAbyij1SNxjG8kN4U%3D&amp;hl=ml&amp;source=homepage&amp;sa=X&amp;ved=0ahUKEwi7uOjYgIyCAxWmjZUCHQFFCQYQ2ZgBCAw\">മലയാളം</a> <a href=\"http://www.google.com/setprefs?sig=0_MPAGhxElCQgAbyij1SNxjG8kN4U%3D&amp;hl=pa&amp;source=homepage&amp;sa=X&amp;ved=0ahUKEwi7uOjYgIyCAxWmjZUCHQFFCQYQ2ZgBCA0\">ਪੰਜਾਬੀ</a> </div>\n",
      "<div style=\"font-size:10pt\"><div id=\"WqQANb\" style=\"margin:19px auto;text-align:center\"><a href=\"/intl/en/ads/\">Advertising</a><a href=\"http://www.google.co.in/services/\">Business Solutions</a><a href=\"/intl/en/about.html\">About Google</a><a href=\"http://www.google.com/setprefdomain?prefdom=IN&amp;prev=http://www.google.co.in/&amp;sig=K_wmwOs9aopCG3O6QW4laAKxKr3QM%3D\">Google.co.in</a></div></div>\n",
      "<div id=\"WqQANb\" style=\"margin:19px auto;text-align:center\"><a href=\"/intl/en/ads/\">Advertising</a><a href=\"http://www.google.co.in/services/\">Business Solutions</a><a href=\"/intl/en/about.html\">About Google</a><a href=\"http://www.google.com/setprefdomain?prefdom=IN&amp;prev=http://www.google.co.in/&amp;sig=K_wmwOs9aopCG3O6QW4laAKxKr3QM%3D\">Google.co.in</a></div>\n"
     ]
    }
   ],
   "source": [
    "tag = input(\"Enter A Tag : \")\n",
    "links = soup.findAll(tag)\n",
    "for link in links :\n",
    "    print(link)"
   ]
  },
  {
   "cell_type": "code",
   "execution_count": null,
   "id": "6ab261a2",
   "metadata": {},
   "outputs": [],
   "source": []
  },
  {
   "cell_type": "code",
   "execution_count": 16,
   "id": "2f486f33",
   "metadata": {},
   "outputs": [
    {
     "name": "stdout",
     "output_type": "stream",
     "text": [
      "<a href=\"/intl/en/about.html\">About Google</a>\n"
     ]
    }
   ],
   "source": [
    "links = soup.findAll('a')\n",
    "for link in links :\n",
    "    if \"About\" in link.text :\n",
    "        print(link)"
   ]
  },
  {
   "cell_type": "code",
   "execution_count": 18,
   "id": "2c9404d8",
   "metadata": {},
   "outputs": [
    {
     "name": "stdout",
     "output_type": "stream",
     "text": [
      "<!DOCTYPE html>\n",
      "<html itemscope=\"\" itemtype=\"http://schema.org/WebPage\" lang=\"en-IN\"><head><meta content=\"text/html; charset=utf-8\" http-equiv=\"Content-Type\"/><meta content=\"/images/branding/googleg/1x/googleg_standard_color_128dp.png\" itemprop=\"image\"/><title>Google</title><script nonce=\"IuOq8dYfKucz4LVeerQ7FA\">(function(){var _g={kEI:'2FA2ZbvsGKab1sQPgYqlMA',kEXPI:'0,1365468,206,4804,2316,383,246,5,1129120,1827,1195960,614,380090,16114,28684,22431,1361,283,12033,17583,4998,15066,2009,38444,2872,2891,11754,606,30668,30022,16105,230,1014,1,16916,2652,4,32894,26723,4437,22592,6645,7596,1,11943,30211,2,16737,3533,17736,1755,5679,1021,31121,4568,6256,23421,1249,30155,2912,2,2,1,26632,8155,23351,872,19634,7,1355,567,9779,36284,6175,20199,20136,14,82,7651,5682,6873,8377,8048,10940,5375,782,1484,764,5628,5523,4665,1804,7734,27535,13446,8842,6923,8532,2404,7914,5769,15977,5209124,825,190,2,196,781,5993988,97,2806428,141,795,29230,94,130,85,2,40,7,16,9,7,7,9,8855463,15085468,579,4043528,14297,2376,39457,3209,1216,3,312,1797,3,1165,4,1267,541,1390965,338513,23420757,8163,10336,2709,2879,1594,3554,577,4917,1178,1967,3163,3729,4235,3252,3069,875,2,3,2972,3607,3118,3999,1875,2,2,53,3182,295,2465,4597,3,2155,332,421,2732,1352,2971,2824,1717,1,1,2069,2964,3,1046,7,2757,595,455,4813,2,3,1680,2,6,967,1085,27,6,5,15,1377,3,1047,502,413,836,919,10,684,4,877,975,873,2,14,781,7,220,1326,1509,21,1198,534,2,7,1,1340,746,789,412,453,333,11,5,1301,706,231,1,47,1079,51,260,447,869,23,3,528,2,15,406,114,127,776,2,351,3,572,448,682,6,433,23,503,199,2,3,2,1,198,462,3,671,131,175,241,500,268,3,58,109,315,1524,1943,114,43,49,428,75,78,47,31,10,900,462,4,457,108,377,331,101,3,116,96,106,2,171,872,2181,472,226,30,29,55,2,251,623,2,175,3,481,1450,473,1669,1962,4',kBL:'p8DK',kOPI:89978449};(function(){var a;(null==(a=window.google)?0:a.stvsc)?google.kEI=_g.kEI:window.google=_g;}).call(this);})();(function(){google.sn='webhp';google.kHL='en-IN';})();(function(){\n",
      "var h=this||self;function l(){return void 0!==window.google&&void 0!==window.google.kOPI&&0!==window.google.kOPI?window.google.kOPI:null};var m,n=[];function p(a){for(var b;a&&(!a.getAttribute||!(b=a.getAttribute(\"eid\")));)a=a.parentNode;return b||m}function q(a){for(var b=null;a&&(!a.getAttribute||!(b=a.getAttribute(\"leid\")));)a=a.parentNode;return b}function r(a){/^http:/i.test(a)&&\"https:\"===window.location.protocol&&(google.ml&&google.ml(Error(\"a\"),!1,{src:a,glmm:1}),a=\"\");return a}\n",
      "function t(a,b,c,d,k){var e=\"\";-1===b.search(\"&ei=\")&&(e=\"&ei=\"+p(d),-1===b.search(\"&lei=\")&&(d=q(d))&&(e+=\"&lei=\"+d));d=\"\";var g=-1===b.search(\"&cshid=\")&&\"slh\"!==a,f=[];f.push([\"zx\",Date.now().toString()]);h._cshid&&g&&f.push([\"cshid\",h._cshid]);c=c();null!=c&&f.push([\"opi\",c.toString()]);for(c=0;c<f.length;c++){if(0===c||0<c)d+=\"&\";d+=f[c][0]+\"=\"+f[c][1]}return\"/\"+(k||\"gen_204\")+\"?atyp=i&ct=\"+String(a)+\"&cad=\"+(b+e+d)};m=google.kEI;google.getEI=p;google.getLEI=q;google.ml=function(){return null};google.log=function(a,b,c,d,k,e){e=void 0===e?l:e;c||(c=t(a,b,e,d,k));if(c=r(c)){a=new Image;var g=n.length;n[g]=a;a.onerror=a.onload=a.onabort=function(){delete n[g]};a.src=c}};google.logUrl=function(a,b){b=void 0===b?l:b;return t(\"\",a,b)};}).call(this);(function(){google.y={};google.sy=[];google.x=function(a,b){if(a)var c=a.id;else{do c=Math.random();while(google.y[c])}google.y[c]=[a,b];return!1};google.sx=function(a){google.sy.push(a)};google.lm=[];google.plm=function(a){google.lm.push.apply(google.lm,a)};google.lq=[];google.load=function(a,b,c){google.lq.push([[a],b,c])};google.loadAll=function(a,b){google.lq.push([a,b])};google.bx=!1;google.lx=function(){};var d=[];google.fce=function(a,b,c,e){d.push([a,b,c,e])};google.qce=d;}).call(this);google.f={};(function(){\n",
      "document.documentElement.addEventListener(\"submit\",function(b){var a;if(a=b.target){var c=a.getAttribute(\"data-submitfalse\");a=\"1\"===c||\"q\"===c&&!a.elements.q.value?!0:!1}else a=!1;a&&(b.preventDefault(),b.stopPropagation())},!0);document.documentElement.addEventListener(\"click\",function(b){var a;a:{for(a=b.target;a&&a!==document.documentElement;a=a.parentElement)if(\"A\"===a.tagName){a=\"1\"===a.getAttribute(\"data-nohref\");break a}a=!1}a&&b.preventDefault()},!0);}).call(this);</script><style>#gbar,#guser{font-size:13px;padding-top:1px !important;}#gbar{height:22px}#guser{padding-bottom:7px !important;text-align:right}.gbh,.gbd{border-top:1px solid #c9d7f1;font-size:1px}.gbh{height:0;position:absolute;top:24px;width:100%}@media all{.gb1{height:22px;margin-right:.5em;vertical-align:top}#gbar{float:left}}a.gb1,a.gb4{text-decoration:underline !important}a.gb1,a.gb4{color:#00c !important}.gbi .gb4{color:#dd8e27 !important}.gbf .gb4{color:#900 !important}\n",
      "</style><style>body,td,a,p,.h{font-family:arial,sans-serif}body{margin:0;overflow-y:scroll}#gog{padding:3px 8px 0}td{line-height:.8em}.gac_m td{line-height:17px}form{margin-bottom:20px}.h{color:#1967d2}em{font-weight:bold;font-style:normal}.lst{height:25px;width:496px}.gsfi,.lst{font:18px arial,sans-serif}.gsfs{font:17px arial,sans-serif}.ds{display:inline-box;display:inline-block;margin:3px 0 4px;margin-left:4px}input{font-family:inherit}body{background:#fff;color:#000}a{color:#681da8;text-decoration:none}a:hover,a:active{text-decoration:underline}.fl a{color:#1967d2}a:visited{color:#681da8}.sblc{padding-top:5px}.sblc a{display:block;margin:2px 0;margin-left:13px;font-size:11px}.lsbb{background:#f8f9fa;border:solid 1px;border-color:#dadce0 #70757a #70757a #dadce0;height:30px}.lsbb{display:block}#WqQANb a{display:inline-block;margin:0 12px}.lsb{background:url(/images/nav_logo229.png) 0 -261px repeat-x;color:#000;border:none;cursor:pointer;height:30px;margin:0;outline:0;font:15px arial,sans-serif;vertical-align:top}.lsb:active{background:#dadce0}.lst:focus{outline:none}</style><script nonce=\"IuOq8dYfKucz4LVeerQ7FA\">(function(){window.google.erd={jsr:1,bv:1887,de:true};\n",
      "var h=this||self;var k,l=null!=(k=h.mei)?k:1,n,p=null!=(n=h.sdo)?n:!0,q=0,r,t=google.erd,v=t.jsr;google.ml=function(a,b,d,m,e){e=void 0===e?2:e;b&&(r=a&&a.message);void 0===d&&(d={});d.cad=\"ple_\"+google.ple+\".aple_\"+google.aple;if(google.dl)return google.dl(a,e,d),null;if(0>v){window.console&&console.error(a,d);if(-2===v)throw a;b=!1}else b=!a||!a.message||\"Error loading script\"===a.message||q>=l&&!m?!1:!0;if(!b)return null;q++;d=d||{};b=encodeURIComponent;var c=\"/gen_204?atyp=i&ei=\"+b(google.kEI);google.kEXPI&&(c+=\"&jexpid=\"+b(google.kEXPI));c+=\"&srcpg=\"+b(google.sn)+\"&jsr=\"+b(t.jsr)+\"&bver=\"+\n",
      "b(t.bv);var f=a.lineNumber;void 0!==f&&(c+=\"&line=\"+f);var g=a.fileName;g&&(0<g.indexOf(\"-extension:/\")&&(e=3),c+=\"&script=\"+b(g),f&&g===window.location.href&&(f=document.documentElement.outerHTML.split(\"\\n\")[f],c+=\"&cad=\"+b(f?f.substring(0,300):\"No script found.\")));google.ple&&1===google.ple&&(e=2);c+=\"&jsel=\"+e;for(var u in d)c+=\"&\",c+=b(u),c+=\"=\",c+=b(d[u]);c=c+\"&emsg=\"+b(a.name+\": \"+a.message);c=c+\"&jsst=\"+b(a.stack||\"N/A\");12288<=c.length&&(c=c.substr(0,12288));a=c;m||google.log(0,\"\",a);return a};window.onerror=function(a,b,d,m,e){r!==a&&(a=e instanceof Error?e:Error(a),void 0===d||\"lineNumber\"in a||(a.lineNumber=d),void 0===b||\"fileName\"in a||(a.fileName=b),google.ml(a,!1,void 0,!1,\"SyntaxError\"===a.name||\"SyntaxError\"===a.message.substring(0,11)||-1!==a.message.indexOf(\"Script error\")?3:0));r=null;p&&q>=l&&(window.onerror=null)};})();</script></head><body bgcolor=\"#fff\"><script nonce=\"IuOq8dYfKucz4LVeerQ7FA\">(function(){var src='/images/nav_logo229.png';var iesg=false;document.body.onload = function(){window.n && window.n();if (document.images){new Image().src=src;}\n",
      "if (!iesg){document.f&&document.f.q.focus();document.gbqf&&document.gbqf.q.focus();}\n",
      "}\n",
      "})();</script><div id=\"mngb\"><div id=\"gbar\"><nobr><b class=\"gb1\">Search</b> <a class=\"gb1\" href=\"https://www.google.com/imghp?hl=en&amp;tab=wi\">Images</a> <a class=\"gb1\" href=\"http://maps.google.co.in/maps?hl=en&amp;tab=wl\">Maps</a> <a class=\"gb1\" href=\"https://play.google.com/?hl=en&amp;tab=w8\">Play</a> <a class=\"gb1\" href=\"https://www.youtube.com/?tab=w1\">YouTube</a> <a class=\"gb1\" href=\"https://news.google.com/?tab=wn\">News</a> <a class=\"gb1\" href=\"https://mail.google.com/mail/?tab=wm\">Gmail</a> <a class=\"gb1\" href=\"https://drive.google.com/?tab=wo\">Drive</a> <a class=\"gb1\" href=\"https://www.google.co.in/intl/en/about/products?tab=wh\" style=\"text-decoration:none\"><u>More</u> »</a></nobr></div><div id=\"guser\" width=\"100%\"><nobr><span class=\"gbi\" id=\"gbn\"></span><span class=\"gbf\" id=\"gbf\"></span><span id=\"gbe\"></span><a class=\"gb4\" href=\"http://www.google.co.in/history/optout?hl=en\">Web History</a> | <a class=\"gb4\" href=\"/preferences?hl=en\">Settings</a> | <a class=\"gb4\" href=\"https://accounts.google.com/ServiceLogin?hl=en&amp;passive=true&amp;continue=http://www.google.com/&amp;ec=GAZAAQ\" id=\"gb_70\" target=\"_top\">Sign in</a></nobr></div><div class=\"gbh\" style=\"left:0\"></div><div class=\"gbh\" style=\"right:0\"></div></div><center><br clear=\"all\" id=\"lgpd\"/><div id=\"lga\"><img alt=\"Google\" height=\"92\" id=\"hplogo\" src=\"/images/branding/googlelogo/1x/googlelogo_white_background_color_272x92dp.png\" style=\"padding:28px 0 14px\" width=\"272\"/><br/><br/></div><form action=\"/search\" name=\"f\"><table cellpadding=\"0\" cellspacing=\"0\"><tr valign=\"top\"><td width=\"25%\"> </td><td align=\"center\" nowrap=\"\"><input name=\"ie\" type=\"hidden\" value=\"ISO-8859-1\"/><input name=\"hl\" type=\"hidden\" value=\"en-IN\"/><input name=\"source\" type=\"hidden\" value=\"hp\"/><input name=\"biw\" type=\"hidden\"/><input name=\"bih\" type=\"hidden\"/><div class=\"ds\" style=\"height:32px;margin:4px 0\"><input autocomplete=\"off\" class=\"lst\" maxlength=\"2048\" name=\"q\" size=\"57\" style=\"margin:0;padding:5px 8px 0 6px;vertical-align:top;color:#000\" title=\"Google Search\" value=\"\"/></div><br style=\"line-height:0\"/><span class=\"ds\"><span class=\"lsbb\"><input class=\"lsb\" name=\"btnG\" type=\"submit\" value=\"Google Search\"/></span></span><span class=\"ds\"><span class=\"lsbb\"><input class=\"lsb\" id=\"tsuid_1\" name=\"btnI\" type=\"submit\" value=\"I'm Feeling Lucky\"/><script nonce=\"IuOq8dYfKucz4LVeerQ7FA\">(function(){var id='tsuid_1';document.getElementById(id).onclick = function(){if (this.form.q.value){this.checked = 1;if (this.form.iflsig)this.form.iflsig.disabled = false;}\n",
      "else top.location='/doodles/';};})();</script><input name=\"iflsig\" type=\"hidden\" value=\"AO6bgOgAAAAAZTZe6L3hwgadt5niZbVLliqqMh-Jc3dW\"/></span></span></td><td align=\"left\" class=\"fl sblc\" nowrap=\"\" width=\"25%\"><a href=\"/advanced_search?hl=en-IN&amp;authuser=0\">Advanced search</a></td></tr></table><input id=\"gbv\" name=\"gbv\" type=\"hidden\" value=\"1\"/><script nonce=\"IuOq8dYfKucz4LVeerQ7FA\">(function(){var a,b=\"1\";if(document&&document.getElementById)if(\"undefined\"!=typeof XMLHttpRequest)b=\"2\";else if(\"undefined\"!=typeof ActiveXObject){var c,d,e=[\"MSXML2.XMLHTTP.6.0\",\"MSXML2.XMLHTTP.3.0\",\"MSXML2.XMLHTTP\",\"Microsoft.XMLHTTP\"];for(c=0;d=e[c++];)try{new ActiveXObject(d),b=\"2\"}catch(h){}}a=b;if(\"2\"==a&&-1==location.search.indexOf(\"&gbv=2\")){var f=google.gbvu,g=document.getElementById(\"gbv\");g&&(g.value=a);f&&window.setTimeout(function(){location.href=f},0)};}).call(this);</script></form><div id=\"gac_scont\"></div><div style=\"font-size:83%;min-height:3.5em\"><br/><div id=\"gws-output-pages-elements-homepage_additional_languages__als\"><style>#gws-output-pages-elements-homepage_additional_languages__als{font-size:small;margin-bottom:24px}#SIvCob{color:#3c4043;display:inline-block;line-height:28px;}#SIvCob a{padding:0 3px;}.H6sW5{display:inline-block;margin:0 2px;white-space:nowrap}.z4hgWe{display:inline-block;margin:0 2px}</style><div id=\"SIvCob\">Google offered in:  <a href=\"http://www.google.com/setprefs?sig=0_MPAGhxElCQgAbyij1SNxjG8kN4U%3D&amp;hl=hi&amp;source=homepage&amp;sa=X&amp;ved=0ahUKEwi7uOjYgIyCAxWmjZUCHQFFCQYQ2ZgBCAU\">हिन्दी</a> <a href=\"http://www.google.com/setprefs?sig=0_MPAGhxElCQgAbyij1SNxjG8kN4U%3D&amp;hl=bn&amp;source=homepage&amp;sa=X&amp;ved=0ahUKEwi7uOjYgIyCAxWmjZUCHQFFCQYQ2ZgBCAY\">বাংলা</a> <a href=\"http://www.google.com/setprefs?sig=0_MPAGhxElCQgAbyij1SNxjG8kN4U%3D&amp;hl=te&amp;source=homepage&amp;sa=X&amp;ved=0ahUKEwi7uOjYgIyCAxWmjZUCHQFFCQYQ2ZgBCAc\">తెలుగు</a> <a href=\"http://www.google.com/setprefs?sig=0_MPAGhxElCQgAbyij1SNxjG8kN4U%3D&amp;hl=mr&amp;source=homepage&amp;sa=X&amp;ved=0ahUKEwi7uOjYgIyCAxWmjZUCHQFFCQYQ2ZgBCAg\">मराठी</a> <a href=\"http://www.google.com/setprefs?sig=0_MPAGhxElCQgAbyij1SNxjG8kN4U%3D&amp;hl=ta&amp;source=homepage&amp;sa=X&amp;ved=0ahUKEwi7uOjYgIyCAxWmjZUCHQFFCQYQ2ZgBCAk\">தமிழ்</a> <a href=\"http://www.google.com/setprefs?sig=0_MPAGhxElCQgAbyij1SNxjG8kN4U%3D&amp;hl=gu&amp;source=homepage&amp;sa=X&amp;ved=0ahUKEwi7uOjYgIyCAxWmjZUCHQFFCQYQ2ZgBCAo\">ગુજરાતી</a> <a href=\"http://www.google.com/setprefs?sig=0_MPAGhxElCQgAbyij1SNxjG8kN4U%3D&amp;hl=kn&amp;source=homepage&amp;sa=X&amp;ved=0ahUKEwi7uOjYgIyCAxWmjZUCHQFFCQYQ2ZgBCAs\">ಕನ್ನಡ</a> <a href=\"http://www.google.com/setprefs?sig=0_MPAGhxElCQgAbyij1SNxjG8kN4U%3D&amp;hl=ml&amp;source=homepage&amp;sa=X&amp;ved=0ahUKEwi7uOjYgIyCAxWmjZUCHQFFCQYQ2ZgBCAw\">മലയാളം</a> <a href=\"http://www.google.com/setprefs?sig=0_MPAGhxElCQgAbyij1SNxjG8kN4U%3D&amp;hl=pa&amp;source=homepage&amp;sa=X&amp;ved=0ahUKEwi7uOjYgIyCAxWmjZUCHQFFCQYQ2ZgBCA0\">ਪੰਜਾਬੀ</a> </div></div></div><span id=\"footer\"><div style=\"font-size:10pt\"><div id=\"WqQANb\" style=\"margin:19px auto;text-align:center\"><a href=\"/intl/en/ads/\">Advertising</a><a href=\"http://www.google.co.in/services/\">Business Solutions</a><a href=\"/intl/en/about.html\">About Google</a><a href=\"http://www.google.com/setprefdomain?prefdom=IN&amp;prev=http://www.google.co.in/&amp;sig=K_wmwOs9aopCG3O6QW4laAKxKr3QM%3D\">Google.co.in</a></div></div><p style=\"font-size:8pt;color:#70757a\">© 2023 - <a href=\"/intl/en/policies/privacy/\">Privacy</a> - <a href=\"/intl/en/policies/terms/\">Terms</a></p></span></center><script nonce=\"IuOq8dYfKucz4LVeerQ7FA\">(function(){window.google.cdo={height:757,width:1440};(function(){var a=window.innerWidth,b=window.innerHeight;if(!a||!b){var c=window.document,d=\"CSS1Compat\"==c.compatMode?c.documentElement:c.body;a=d.clientWidth;b=d.clientHeight}\n",
      "if(a&&b&&(a!=google.cdo.width||b!=google.cdo.height)){var e=google,f=e.log,g=\"/client_204?&atyp=i&biw=\"+a+\"&bih=\"+b+\"&ei=\"+google.kEI,h=\"\",k=[],l=void 0!==window.google&&void 0!==window.google.kOPI&&0!==window.google.kOPI?window.google.kOPI:null;null!=l&&k.push([\"opi\",l.toString()]);for(var m=0;m<k.length;m++){if(0===m||0<m)h+=\"&\";h+=k[m][0]+\"=\"+k[m][1]}f.call(e,\"\",\"\",g+h)};}).call(this);})();</script> <script nonce=\"IuOq8dYfKucz4LVeerQ7FA\">(function(){google.xjs={ck:'xjs.hp.KyKuuSDuphM.L.X.O',cs:'ACT90oGNiVOgUn1GVgzGQFHRHtWgEZND0A',cssopt:false,csss:'ACT90oGy_7MtmpeDDXIDwD4FtWvogRNZjA',excm:[],sepcss:false};})();</script> <script nonce=\"IuOq8dYfKucz4LVeerQ7FA\">(function(){var u='/xjs/_/js/k\\x3dxjs.hp.en.wLOnoTYhcK0.O/am\\x3dAAAAAAAAAAAAAAAAAAAAAAIAAAAAQAEAAQIAAAAAAAAAIAAAHQEAsAAAFw/d\\x3d1/ed\\x3d1/rs\\x3dACT90oFA7LHiJ-VV1j_HBWbaeTfbBxx0iQ/m\\x3dsb_he,d,cEt90b,SNUn3,qddgKe,sTsDMc,dtl0hd,eHDfl';var amd=0;\n",
      "var e=this||self,f=function(a){return a};var g;var h=function(a){this.g=a};h.prototype.toString=function(){return this.g+\"\"};var k={};var l=function(){var a=document;var b=\"SCRIPT\";\"application/xhtml+xml\"===a.contentType&&(b=b.toLowerCase());return a.createElement(b)};\n",
      "function m(a,b){a.src=b instanceof h&&b.constructor===h?b.g:\"type_error:TrustedResourceUrl\";var c,d;(c=(b=null==(d=(c=(a.ownerDocument&&a.ownerDocument.defaultView||window).document).querySelector)?void 0:d.call(c,\"script[nonce]\"))?b.nonce||b.getAttribute(\"nonce\")||\"\":\"\")&&a.setAttribute(\"nonce\",c)};function n(a){a=null===a?\"null\":void 0===a?\"undefined\":a;if(void 0===g){var b=null;var c=e.trustedTypes;if(c&&c.createPolicy){try{b=c.createPolicy(\"goog#html\",{createHTML:f,createScript:f,createScriptURL:f})}catch(d){e.console&&e.console.error(d.message)}g=b}else g=b}a=(b=g)?b.createScriptURL(a):a;return new h(a,k)};void 0===google.ps&&(google.ps=[]);function p(){var a=u,b=function(){};google.lx=google.stvsc?b:function(){q(a);google.lx=b};google.bx||google.lx()}function r(a,b){b&&m(a,n(b));var c=a.onload;a.onload=function(d){c&&c(d);google.ps=google.ps.filter(function(t){return a!==t})};google.ps.push(a);document.body.appendChild(a)}google.as=r;function q(a){google.timers&&google.timers.load&&google.tick&&google.tick(\"load\",\"xjsls\");var b=l();b.onerror=function(){google.ple=1};b.onload=function(){google.ple=0};google.xjsus=void 0;r(b,a);google.aple=-1;google.psa=!0};google.xjsu=u;e._F_jsUrl=u;setTimeout(function(){0<amd?google.caft(function(){return p()},amd):p()},0);})();window._ = window._ || {};window._DumpException = _._DumpException = function(e){throw e;};window._s = window._s || {};_s._DumpException = _._DumpException;window._qs = window._qs || {};_qs._DumpException = _._DumpException;(function(){var t=[1,0,0,0,512,83886144,2101248,0,536871168,74711040,720896,1472];window._F_toggles = window._xjs_toggles = t;})();function _F_installCss(c){}\n",
      "(function(){google.jl={blt:'none',chnk:0,dw:false,dwu:true,emtn:0,end:0,ico:false,ikb:0,ine:false,injs:'none',injt:0,injth:0,injv2:false,lls:'default',pdt:0,rep:0,snet:true,strt:0,ubm:false,uwp:true};})();(function(){var pmc='{\\x22d\\x22:{},\\x22sb_he\\x22:{\\x22agen\\x22:true,\\x22cgen\\x22:true,\\x22client\\x22:\\x22heirloom-hp\\x22,\\x22dh\\x22:true,\\x22ds\\x22:\\x22\\x22,\\x22fl\\x22:true,\\x22host\\x22:\\x22google.com\\x22,\\x22jsonp\\x22:true,\\x22msgs\\x22:{\\x22cibl\\x22:\\x22Clear Search\\x22,\\x22dym\\x22:\\x22Did you mean:\\x22,\\x22lcky\\x22:\\x22I\\\\u0026#39;m Feeling Lucky\\x22,\\x22lml\\x22:\\x22Learn more\\x22,\\x22psrc\\x22:\\x22This search was removed from your \\\\u003Ca href\\x3d\\\\\\x22/history\\\\\\x22\\\\u003EWeb History\\\\u003C/a\\\\u003E\\x22,\\x22psrl\\x22:\\x22Remove\\x22,\\x22sbit\\x22:\\x22Search by image\\x22,\\x22srch\\x22:\\x22Google Search\\x22},\\x22ovr\\x22:{},\\x22pq\\x22:\\x22\\x22,\\x22rfs\\x22:[],\\x22sbas\\x22:\\x220 3px 8px 0 rgba(0,0,0,0.2),0 0 0 1px rgba(0,0,0,0.08)\\x22,\\x22stok\\x22:\\x22WDm0-mrJABWJorGPzRc5S67Nf38\\x22}}';google.pmc=JSON.parse(pmc);})();(function(){var b=function(a){var c=0;return function(){return c<a.length?{done:!1,value:a[c++]}:{done:!0}}};\n",
      "var e=this||self;var g,h;a:{for(var k=[\"CLOSURE_FLAGS\"],l=e,n=0;n<k.length;n++)if(l=l[k[n]],null==l){h=null;break a}h=l}var p=h&&h[610401301];g=null!=p?p:!1;var q,r=e.navigator;q=r?r.userAgentData||null:null;function t(a){return g?q?q.brands.some(function(c){return(c=c.brand)&&-1!=c.indexOf(a)}):!1:!1}function u(a){var c;a:{if(c=e.navigator)if(c=c.userAgent)break a;c=\"\"}return-1!=c.indexOf(a)};function v(){return g?!!q&&0<q.brands.length:!1}function w(){return u(\"Safari\")&&!(x()||(v()?0:u(\"Coast\"))||(v()?0:u(\"Opera\"))||(v()?0:u(\"Edge\"))||(v()?t(\"Microsoft Edge\"):u(\"Edg/\"))||(v()?t(\"Opera\"):u(\"OPR\"))||u(\"Firefox\")||u(\"FxiOS\")||u(\"Silk\")||u(\"Android\"))}function x(){return v()?t(\"Chromium\"):(u(\"Chrome\")||u(\"CriOS\"))&&!(v()?0:u(\"Edge\"))||u(\"Silk\")}function y(){return u(\"Android\")&&!(x()||u(\"Firefox\")||u(\"FxiOS\")||(v()?0:u(\"Opera\"))||u(\"Silk\"))};var z=v()?!1:u(\"Trident\")||u(\"MSIE\");y();x();w();Object.freeze({});var A=!z&&!w(),D=function(a){if(/-[a-z]/.test(\"ved\"))return null;if(A&&a.dataset){if(y()&&!(\"ved\"in a.dataset))return null;a=a.dataset.ved;return void 0===a?null:a}return a.getAttribute(\"data-\"+\"ved\".replace(/([A-Z])/g,\"-$1\").toLowerCase())};var E=[],F=null;function G(a){a=a.target;var c=performance.now(),f=[],H=f.concat,d=E;if(!(d instanceof Array)){var m=\"undefined\"!=typeof Symbol&&Symbol.iterator&&d[Symbol.iterator];if(m)d=m.call(d);else if(\"number\"==typeof d.length)d={next:b(d)};else throw Error(\"a`\"+String(d));for(var B=[];!(m=d.next()).done;)B.push(m.value);d=B}E=H.call(f,d,[c]);if(a&&a instanceof HTMLElement)if(a===F){if(c=4<=E.length)c=5>(E[E.length-1]-E[E.length-4])/1E3;if(c){c=google.getEI(a);a.hasAttribute(\"data-ved\")?f=a?D(a)||\"\":\"\":f=(f=\n",
      "a.closest(\"[data-ved]\"))?D(f)||\"\":\"\";f=f||\"\";if(a.hasAttribute(\"jsname\"))a=a.getAttribute(\"jsname\");else{var C;a=null==(C=a.closest(\"[jsname]\"))?void 0:C.getAttribute(\"jsname\")}google.log(\"rcm\",\"&ei=\"+c+\"&ved=\"+f+\"&jsname=\"+(a||\"\"))}}else F=a,E=[c]}window.document.addEventListener(\"DOMContentLoaded\",function(){document.body.addEventListener(\"click\",G)});}).call(this);</script></body></html>\n"
     ]
    }
   ],
   "source": [
    "soup = BeautifulSoup(src,'lxml')\n",
    "print(soup)"
   ]
  },
  {
   "cell_type": "code",
   "execution_count": 19,
   "id": "1f56016c",
   "metadata": {},
   "outputs": [
    {
     "name": "stdout",
     "output_type": "stream",
     "text": [
      "<!DOCTYPE html>\n",
      "<html itemscope=\"\" itemtype=\"http://schema.org/WebPage\" lang=\"en-IN\">\n",
      " <head>\n",
      "  <meta content=\"text/html; charset=utf-8\" http-equiv=\"Content-Type\"/>\n",
      "  <meta content=\"/images/branding/googleg/1x/googleg_standard_color_128dp.png\" itemprop=\"image\"/>\n",
      "  <title>\n",
      "   Google\n",
      "  </title>\n",
      "  <script nonce=\"IuOq8dYfKucz4LVeerQ7FA\">\n",
      "   (function(){var _g={kEI:'2FA2ZbvsGKab1sQPgYqlMA',kEXPI:'0,1365468,206,4804,2316,383,246,5,1129120,1827,1195960,614,380090,16114,28684,22431,1361,283,12033,17583,4998,15066,2009,38444,2872,2891,11754,606,30668,30022,16105,230,1014,1,16916,2652,4,32894,26723,4437,22592,6645,7596,1,11943,30211,2,16737,3533,17736,1755,5679,1021,31121,4568,6256,23421,1249,30155,2912,2,2,1,26632,8155,23351,872,19634,7,1355,567,9779,36284,6175,20199,20136,14,82,7651,5682,6873,8377,8048,10940,5375,782,1484,764,5628,5523,4665,1804,7734,27535,13446,8842,6923,8532,2404,7914,5769,15977,5209124,825,190,2,196,781,5993988,97,2806428,141,795,29230,94,130,85,2,40,7,16,9,7,7,9,8855463,15085468,579,4043528,14297,2376,39457,3209,1216,3,312,1797,3,1165,4,1267,541,1390965,338513,23420757,8163,10336,2709,2879,1594,3554,577,4917,1178,1967,3163,3729,4235,3252,3069,875,2,3,2972,3607,3118,3999,1875,2,2,53,3182,295,2465,4597,3,2155,332,421,2732,1352,2971,2824,1717,1,1,2069,2964,3,1046,7,2757,595,455,4813,2,3,1680,2,6,967,1085,27,6,5,15,1377,3,1047,502,413,836,919,10,684,4,877,975,873,2,14,781,7,220,1326,1509,21,1198,534,2,7,1,1340,746,789,412,453,333,11,5,1301,706,231,1,47,1079,51,260,447,869,23,3,528,2,15,406,114,127,776,2,351,3,572,448,682,6,433,23,503,199,2,3,2,1,198,462,3,671,131,175,241,500,268,3,58,109,315,1524,1943,114,43,49,428,75,78,47,31,10,900,462,4,457,108,377,331,101,3,116,96,106,2,171,872,2181,472,226,30,29,55,2,251,623,2,175,3,481,1450,473,1669,1962,4',kBL:'p8DK',kOPI:89978449};(function(){var a;(null==(a=window.google)?0:a.stvsc)?google.kEI=_g.kEI:window.google=_g;}).call(this);})();(function(){google.sn='webhp';google.kHL='en-IN';})();(function(){\n",
      "var h=this||self;function l(){return void 0!==window.google&&void 0!==window.google.kOPI&&0!==window.google.kOPI?window.google.kOPI:null};var m,n=[];function p(a){for(var b;a&&(!a.getAttribute||!(b=a.getAttribute(\"eid\")));)a=a.parentNode;return b||m}function q(a){for(var b=null;a&&(!a.getAttribute||!(b=a.getAttribute(\"leid\")));)a=a.parentNode;return b}function r(a){/^http:/i.test(a)&&\"https:\"===window.location.protocol&&(google.ml&&google.ml(Error(\"a\"),!1,{src:a,glmm:1}),a=\"\");return a}\n",
      "function t(a,b,c,d,k){var e=\"\";-1===b.search(\"&ei=\")&&(e=\"&ei=\"+p(d),-1===b.search(\"&lei=\")&&(d=q(d))&&(e+=\"&lei=\"+d));d=\"\";var g=-1===b.search(\"&cshid=\")&&\"slh\"!==a,f=[];f.push([\"zx\",Date.now().toString()]);h._cshid&&g&&f.push([\"cshid\",h._cshid]);c=c();null!=c&&f.push([\"opi\",c.toString()]);for(c=0;c<f.length;c++){if(0===c||0<c)d+=\"&\";d+=f[c][0]+\"=\"+f[c][1]}return\"/\"+(k||\"gen_204\")+\"?atyp=i&ct=\"+String(a)+\"&cad=\"+(b+e+d)};m=google.kEI;google.getEI=p;google.getLEI=q;google.ml=function(){return null};google.log=function(a,b,c,d,k,e){e=void 0===e?l:e;c||(c=t(a,b,e,d,k));if(c=r(c)){a=new Image;var g=n.length;n[g]=a;a.onerror=a.onload=a.onabort=function(){delete n[g]};a.src=c}};google.logUrl=function(a,b){b=void 0===b?l:b;return t(\"\",a,b)};}).call(this);(function(){google.y={};google.sy=[];google.x=function(a,b){if(a)var c=a.id;else{do c=Math.random();while(google.y[c])}google.y[c]=[a,b];return!1};google.sx=function(a){google.sy.push(a)};google.lm=[];google.plm=function(a){google.lm.push.apply(google.lm,a)};google.lq=[];google.load=function(a,b,c){google.lq.push([[a],b,c])};google.loadAll=function(a,b){google.lq.push([a,b])};google.bx=!1;google.lx=function(){};var d=[];google.fce=function(a,b,c,e){d.push([a,b,c,e])};google.qce=d;}).call(this);google.f={};(function(){\n",
      "document.documentElement.addEventListener(\"submit\",function(b){var a;if(a=b.target){var c=a.getAttribute(\"data-submitfalse\");a=\"1\"===c||\"q\"===c&&!a.elements.q.value?!0:!1}else a=!1;a&&(b.preventDefault(),b.stopPropagation())},!0);document.documentElement.addEventListener(\"click\",function(b){var a;a:{for(a=b.target;a&&a!==document.documentElement;a=a.parentElement)if(\"A\"===a.tagName){a=\"1\"===a.getAttribute(\"data-nohref\");break a}a=!1}a&&b.preventDefault()},!0);}).call(this);\n",
      "  </script>\n",
      "  <style>\n",
      "   #gbar,#guser{font-size:13px;padding-top:1px !important;}#gbar{height:22px}#guser{padding-bottom:7px !important;text-align:right}.gbh,.gbd{border-top:1px solid #c9d7f1;font-size:1px}.gbh{height:0;position:absolute;top:24px;width:100%}@media all{.gb1{height:22px;margin-right:.5em;vertical-align:top}#gbar{float:left}}a.gb1,a.gb4{text-decoration:underline !important}a.gb1,a.gb4{color:#00c !important}.gbi .gb4{color:#dd8e27 !important}.gbf .gb4{color:#900 !important}\n",
      "  </style>\n",
      "  <style>\n",
      "   body,td,a,p,.h{font-family:arial,sans-serif}body{margin:0;overflow-y:scroll}#gog{padding:3px 8px 0}td{line-height:.8em}.gac_m td{line-height:17px}form{margin-bottom:20px}.h{color:#1967d2}em{font-weight:bold;font-style:normal}.lst{height:25px;width:496px}.gsfi,.lst{font:18px arial,sans-serif}.gsfs{font:17px arial,sans-serif}.ds{display:inline-box;display:inline-block;margin:3px 0 4px;margin-left:4px}input{font-family:inherit}body{background:#fff;color:#000}a{color:#681da8;text-decoration:none}a:hover,a:active{text-decoration:underline}.fl a{color:#1967d2}a:visited{color:#681da8}.sblc{padding-top:5px}.sblc a{display:block;margin:2px 0;margin-left:13px;font-size:11px}.lsbb{background:#f8f9fa;border:solid 1px;border-color:#dadce0 #70757a #70757a #dadce0;height:30px}.lsbb{display:block}#WqQANb a{display:inline-block;margin:0 12px}.lsb{background:url(/images/nav_logo229.png) 0 -261px repeat-x;color:#000;border:none;cursor:pointer;height:30px;margin:0;outline:0;font:15px arial,sans-serif;vertical-align:top}.lsb:active{background:#dadce0}.lst:focus{outline:none}\n",
      "  </style>\n",
      "  <script nonce=\"IuOq8dYfKucz4LVeerQ7FA\">\n",
      "   (function(){window.google.erd={jsr:1,bv:1887,de:true};\n",
      "var h=this||self;var k,l=null!=(k=h.mei)?k:1,n,p=null!=(n=h.sdo)?n:!0,q=0,r,t=google.erd,v=t.jsr;google.ml=function(a,b,d,m,e){e=void 0===e?2:e;b&&(r=a&&a.message);void 0===d&&(d={});d.cad=\"ple_\"+google.ple+\".aple_\"+google.aple;if(google.dl)return google.dl(a,e,d),null;if(0>v){window.console&&console.error(a,d);if(-2===v)throw a;b=!1}else b=!a||!a.message||\"Error loading script\"===a.message||q>=l&&!m?!1:!0;if(!b)return null;q++;d=d||{};b=encodeURIComponent;var c=\"/gen_204?atyp=i&ei=\"+b(google.kEI);google.kEXPI&&(c+=\"&jexpid=\"+b(google.kEXPI));c+=\"&srcpg=\"+b(google.sn)+\"&jsr=\"+b(t.jsr)+\"&bver=\"+\n",
      "b(t.bv);var f=a.lineNumber;void 0!==f&&(c+=\"&line=\"+f);var g=a.fileName;g&&(0<g.indexOf(\"-extension:/\")&&(e=3),c+=\"&script=\"+b(g),f&&g===window.location.href&&(f=document.documentElement.outerHTML.split(\"\\n\")[f],c+=\"&cad=\"+b(f?f.substring(0,300):\"No script found.\")));google.ple&&1===google.ple&&(e=2);c+=\"&jsel=\"+e;for(var u in d)c+=\"&\",c+=b(u),c+=\"=\",c+=b(d[u]);c=c+\"&emsg=\"+b(a.name+\": \"+a.message);c=c+\"&jsst=\"+b(a.stack||\"N/A\");12288<=c.length&&(c=c.substr(0,12288));a=c;m||google.log(0,\"\",a);return a};window.onerror=function(a,b,d,m,e){r!==a&&(a=e instanceof Error?e:Error(a),void 0===d||\"lineNumber\"in a||(a.lineNumber=d),void 0===b||\"fileName\"in a||(a.fileName=b),google.ml(a,!1,void 0,!1,\"SyntaxError\"===a.name||\"SyntaxError\"===a.message.substring(0,11)||-1!==a.message.indexOf(\"Script error\")?3:0));r=null;p&&q>=l&&(window.onerror=null)};})();\n",
      "  </script>\n",
      " </head>\n",
      " <body bgcolor=\"#fff\">\n",
      "  <script nonce=\"IuOq8dYfKucz4LVeerQ7FA\">\n",
      "   (function(){var src='/images/nav_logo229.png';var iesg=false;document.body.onload = function(){window.n && window.n();if (document.images){new Image().src=src;}\n",
      "if (!iesg){document.f&&document.f.q.focus();document.gbqf&&document.gbqf.q.focus();}\n",
      "}\n",
      "})();\n",
      "  </script>\n",
      "  <div id=\"mngb\">\n",
      "   <div id=\"gbar\">\n",
      "    <nobr>\n",
      "     <b class=\"gb1\">\n",
      "      Search\n",
      "     </b>\n",
      "     <a class=\"gb1\" href=\"https://www.google.com/imghp?hl=en&amp;tab=wi\">\n",
      "      Images\n",
      "     </a>\n",
      "     <a class=\"gb1\" href=\"http://maps.google.co.in/maps?hl=en&amp;tab=wl\">\n",
      "      Maps\n",
      "     </a>\n",
      "     <a class=\"gb1\" href=\"https://play.google.com/?hl=en&amp;tab=w8\">\n",
      "      Play\n",
      "     </a>\n",
      "     <a class=\"gb1\" href=\"https://www.youtube.com/?tab=w1\">\n",
      "      YouTube\n",
      "     </a>\n",
      "     <a class=\"gb1\" href=\"https://news.google.com/?tab=wn\">\n",
      "      News\n",
      "     </a>\n",
      "     <a class=\"gb1\" href=\"https://mail.google.com/mail/?tab=wm\">\n",
      "      Gmail\n",
      "     </a>\n",
      "     <a class=\"gb1\" href=\"https://drive.google.com/?tab=wo\">\n",
      "      Drive\n",
      "     </a>\n",
      "     <a class=\"gb1\" href=\"https://www.google.co.in/intl/en/about/products?tab=wh\" style=\"text-decoration:none\">\n",
      "      <u>\n",
      "       More\n",
      "      </u>\n",
      "      »\n",
      "     </a>\n",
      "    </nobr>\n",
      "   </div>\n",
      "   <div id=\"guser\" width=\"100%\">\n",
      "    <nobr>\n",
      "     <span class=\"gbi\" id=\"gbn\">\n",
      "     </span>\n",
      "     <span class=\"gbf\" id=\"gbf\">\n",
      "     </span>\n",
      "     <span id=\"gbe\">\n",
      "     </span>\n",
      "     <a class=\"gb4\" href=\"http://www.google.co.in/history/optout?hl=en\">\n",
      "      Web History\n",
      "     </a>\n",
      "     |\n",
      "     <a class=\"gb4\" href=\"/preferences?hl=en\">\n",
      "      Settings\n",
      "     </a>\n",
      "     |\n",
      "     <a class=\"gb4\" href=\"https://accounts.google.com/ServiceLogin?hl=en&amp;passive=true&amp;continue=http://www.google.com/&amp;ec=GAZAAQ\" id=\"gb_70\" target=\"_top\">\n",
      "      Sign in\n",
      "     </a>\n",
      "    </nobr>\n",
      "   </div>\n",
      "   <div class=\"gbh\" style=\"left:0\">\n",
      "   </div>\n",
      "   <div class=\"gbh\" style=\"right:0\">\n",
      "   </div>\n",
      "  </div>\n",
      "  <center>\n",
      "   <br clear=\"all\" id=\"lgpd\"/>\n",
      "   <div id=\"lga\">\n",
      "    <img alt=\"Google\" height=\"92\" id=\"hplogo\" src=\"/images/branding/googlelogo/1x/googlelogo_white_background_color_272x92dp.png\" style=\"padding:28px 0 14px\" width=\"272\"/>\n",
      "    <br/>\n",
      "    <br/>\n",
      "   </div>\n",
      "   <form action=\"/search\" name=\"f\">\n",
      "    <table cellpadding=\"0\" cellspacing=\"0\">\n",
      "     <tr valign=\"top\">\n",
      "      <td width=\"25%\">\n",
      "      </td>\n",
      "      <td align=\"center\" nowrap=\"\">\n",
      "       <input name=\"ie\" type=\"hidden\" value=\"ISO-8859-1\"/>\n",
      "       <input name=\"hl\" type=\"hidden\" value=\"en-IN\"/>\n",
      "       <input name=\"source\" type=\"hidden\" value=\"hp\"/>\n",
      "       <input name=\"biw\" type=\"hidden\"/>\n",
      "       <input name=\"bih\" type=\"hidden\"/>\n",
      "       <div class=\"ds\" style=\"height:32px;margin:4px 0\">\n",
      "        <input autocomplete=\"off\" class=\"lst\" maxlength=\"2048\" name=\"q\" size=\"57\" style=\"margin:0;padding:5px 8px 0 6px;vertical-align:top;color:#000\" title=\"Google Search\" value=\"\"/>\n",
      "       </div>\n",
      "       <br style=\"line-height:0\"/>\n",
      "       <span class=\"ds\">\n",
      "        <span class=\"lsbb\">\n",
      "         <input class=\"lsb\" name=\"btnG\" type=\"submit\" value=\"Google Search\"/>\n",
      "        </span>\n",
      "       </span>\n",
      "       <span class=\"ds\">\n",
      "        <span class=\"lsbb\">\n",
      "         <input class=\"lsb\" id=\"tsuid_1\" name=\"btnI\" type=\"submit\" value=\"I'm Feeling Lucky\"/>\n",
      "         <script nonce=\"IuOq8dYfKucz4LVeerQ7FA\">\n",
      "          (function(){var id='tsuid_1';document.getElementById(id).onclick = function(){if (this.form.q.value){this.checked = 1;if (this.form.iflsig)this.form.iflsig.disabled = false;}\n",
      "else top.location='/doodles/';};})();\n",
      "         </script>\n",
      "         <input name=\"iflsig\" type=\"hidden\" value=\"AO6bgOgAAAAAZTZe6L3hwgadt5niZbVLliqqMh-Jc3dW\"/>\n",
      "        </span>\n",
      "       </span>\n",
      "      </td>\n",
      "      <td align=\"left\" class=\"fl sblc\" nowrap=\"\" width=\"25%\">\n",
      "       <a href=\"/advanced_search?hl=en-IN&amp;authuser=0\">\n",
      "        Advanced search\n",
      "       </a>\n",
      "      </td>\n",
      "     </tr>\n",
      "    </table>\n",
      "    <input id=\"gbv\" name=\"gbv\" type=\"hidden\" value=\"1\"/>\n",
      "    <script nonce=\"IuOq8dYfKucz4LVeerQ7FA\">\n",
      "     (function(){var a,b=\"1\";if(document&&document.getElementById)if(\"undefined\"!=typeof XMLHttpRequest)b=\"2\";else if(\"undefined\"!=typeof ActiveXObject){var c,d,e=[\"MSXML2.XMLHTTP.6.0\",\"MSXML2.XMLHTTP.3.0\",\"MSXML2.XMLHTTP\",\"Microsoft.XMLHTTP\"];for(c=0;d=e[c++];)try{new ActiveXObject(d),b=\"2\"}catch(h){}}a=b;if(\"2\"==a&&-1==location.search.indexOf(\"&gbv=2\")){var f=google.gbvu,g=document.getElementById(\"gbv\");g&&(g.value=a);f&&window.setTimeout(function(){location.href=f},0)};}).call(this);\n",
      "    </script>\n",
      "   </form>\n",
      "   <div id=\"gac_scont\">\n",
      "   </div>\n",
      "   <div style=\"font-size:83%;min-height:3.5em\">\n",
      "    <br/>\n",
      "    <div id=\"gws-output-pages-elements-homepage_additional_languages__als\">\n",
      "     <style>\n",
      "      #gws-output-pages-elements-homepage_additional_languages__als{font-size:small;margin-bottom:24px}#SIvCob{color:#3c4043;display:inline-block;line-height:28px;}#SIvCob a{padding:0 3px;}.H6sW5{display:inline-block;margin:0 2px;white-space:nowrap}.z4hgWe{display:inline-block;margin:0 2px}\n",
      "     </style>\n",
      "     <div id=\"SIvCob\">\n",
      "      Google offered in:\n",
      "      <a href=\"http://www.google.com/setprefs?sig=0_MPAGhxElCQgAbyij1SNxjG8kN4U%3D&amp;hl=hi&amp;source=homepage&amp;sa=X&amp;ved=0ahUKEwi7uOjYgIyCAxWmjZUCHQFFCQYQ2ZgBCAU\">\n",
      "       हिन्दी\n",
      "      </a>\n",
      "      <a href=\"http://www.google.com/setprefs?sig=0_MPAGhxElCQgAbyij1SNxjG8kN4U%3D&amp;hl=bn&amp;source=homepage&amp;sa=X&amp;ved=0ahUKEwi7uOjYgIyCAxWmjZUCHQFFCQYQ2ZgBCAY\">\n",
      "       বাংলা\n",
      "      </a>\n",
      "      <a href=\"http://www.google.com/setprefs?sig=0_MPAGhxElCQgAbyij1SNxjG8kN4U%3D&amp;hl=te&amp;source=homepage&amp;sa=X&amp;ved=0ahUKEwi7uOjYgIyCAxWmjZUCHQFFCQYQ2ZgBCAc\">\n",
      "       తెలుగు\n",
      "      </a>\n",
      "      <a href=\"http://www.google.com/setprefs?sig=0_MPAGhxElCQgAbyij1SNxjG8kN4U%3D&amp;hl=mr&amp;source=homepage&amp;sa=X&amp;ved=0ahUKEwi7uOjYgIyCAxWmjZUCHQFFCQYQ2ZgBCAg\">\n",
      "       मराठी\n",
      "      </a>\n",
      "      <a href=\"http://www.google.com/setprefs?sig=0_MPAGhxElCQgAbyij1SNxjG8kN4U%3D&amp;hl=ta&amp;source=homepage&amp;sa=X&amp;ved=0ahUKEwi7uOjYgIyCAxWmjZUCHQFFCQYQ2ZgBCAk\">\n",
      "       தமிழ்\n",
      "      </a>\n",
      "      <a href=\"http://www.google.com/setprefs?sig=0_MPAGhxElCQgAbyij1SNxjG8kN4U%3D&amp;hl=gu&amp;source=homepage&amp;sa=X&amp;ved=0ahUKEwi7uOjYgIyCAxWmjZUCHQFFCQYQ2ZgBCAo\">\n",
      "       ગુજરાતી\n",
      "      </a>\n",
      "      <a href=\"http://www.google.com/setprefs?sig=0_MPAGhxElCQgAbyij1SNxjG8kN4U%3D&amp;hl=kn&amp;source=homepage&amp;sa=X&amp;ved=0ahUKEwi7uOjYgIyCAxWmjZUCHQFFCQYQ2ZgBCAs\">\n",
      "       ಕನ್ನಡ\n",
      "      </a>\n",
      "      <a href=\"http://www.google.com/setprefs?sig=0_MPAGhxElCQgAbyij1SNxjG8kN4U%3D&amp;hl=ml&amp;source=homepage&amp;sa=X&amp;ved=0ahUKEwi7uOjYgIyCAxWmjZUCHQFFCQYQ2ZgBCAw\">\n",
      "       മലയാളം\n",
      "      </a>\n",
      "      <a href=\"http://www.google.com/setprefs?sig=0_MPAGhxElCQgAbyij1SNxjG8kN4U%3D&amp;hl=pa&amp;source=homepage&amp;sa=X&amp;ved=0ahUKEwi7uOjYgIyCAxWmjZUCHQFFCQYQ2ZgBCA0\">\n",
      "       ਪੰਜਾਬੀ\n",
      "      </a>\n",
      "     </div>\n",
      "    </div>\n",
      "   </div>\n",
      "   <span id=\"footer\">\n",
      "    <div style=\"font-size:10pt\">\n",
      "     <div id=\"WqQANb\" style=\"margin:19px auto;text-align:center\">\n",
      "      <a href=\"/intl/en/ads/\">\n",
      "       Advertising\n",
      "      </a>\n",
      "      <a href=\"http://www.google.co.in/services/\">\n",
      "       Business Solutions\n",
      "      </a>\n",
      "      <a href=\"/intl/en/about.html\">\n",
      "       About Google\n",
      "      </a>\n",
      "      <a href=\"http://www.google.com/setprefdomain?prefdom=IN&amp;prev=http://www.google.co.in/&amp;sig=K_wmwOs9aopCG3O6QW4laAKxKr3QM%3D\">\n",
      "       Google.co.in\n",
      "      </a>\n",
      "     </div>\n",
      "    </div>\n",
      "    <p style=\"font-size:8pt;color:#70757a\">\n",
      "     © 2023 -\n",
      "     <a href=\"/intl/en/policies/privacy/\">\n",
      "      Privacy\n",
      "     </a>\n",
      "     -\n",
      "     <a href=\"/intl/en/policies/terms/\">\n",
      "      Terms\n",
      "     </a>\n",
      "    </p>\n",
      "   </span>\n",
      "  </center>\n",
      "  <script nonce=\"IuOq8dYfKucz4LVeerQ7FA\">\n",
      "   (function(){window.google.cdo={height:757,width:1440};(function(){var a=window.innerWidth,b=window.innerHeight;if(!a||!b){var c=window.document,d=\"CSS1Compat\"==c.compatMode?c.documentElement:c.body;a=d.clientWidth;b=d.clientHeight}\n",
      "if(a&&b&&(a!=google.cdo.width||b!=google.cdo.height)){var e=google,f=e.log,g=\"/client_204?&atyp=i&biw=\"+a+\"&bih=\"+b+\"&ei=\"+google.kEI,h=\"\",k=[],l=void 0!==window.google&&void 0!==window.google.kOPI&&0!==window.google.kOPI?window.google.kOPI:null;null!=l&&k.push([\"opi\",l.toString()]);for(var m=0;m<k.length;m++){if(0===m||0<m)h+=\"&\";h+=k[m][0]+\"=\"+k[m][1]}f.call(e,\"\",\"\",g+h)};}).call(this);})();\n",
      "  </script>\n",
      "  <script nonce=\"IuOq8dYfKucz4LVeerQ7FA\">\n",
      "   (function(){google.xjs={ck:'xjs.hp.KyKuuSDuphM.L.X.O',cs:'ACT90oGNiVOgUn1GVgzGQFHRHtWgEZND0A',cssopt:false,csss:'ACT90oGy_7MtmpeDDXIDwD4FtWvogRNZjA',excm:[],sepcss:false};})();\n",
      "  </script>\n",
      "  <script nonce=\"IuOq8dYfKucz4LVeerQ7FA\">\n",
      "   (function(){var u='/xjs/_/js/k\\x3dxjs.hp.en.wLOnoTYhcK0.O/am\\x3dAAAAAAAAAAAAAAAAAAAAAAIAAAAAQAEAAQIAAAAAAAAAIAAAHQEAsAAAFw/d\\x3d1/ed\\x3d1/rs\\x3dACT90oFA7LHiJ-VV1j_HBWbaeTfbBxx0iQ/m\\x3dsb_he,d,cEt90b,SNUn3,qddgKe,sTsDMc,dtl0hd,eHDfl';var amd=0;\n",
      "var e=this||self,f=function(a){return a};var g;var h=function(a){this.g=a};h.prototype.toString=function(){return this.g+\"\"};var k={};var l=function(){var a=document;var b=\"SCRIPT\";\"application/xhtml+xml\"===a.contentType&&(b=b.toLowerCase());return a.createElement(b)};\n",
      "function m(a,b){a.src=b instanceof h&&b.constructor===h?b.g:\"type_error:TrustedResourceUrl\";var c,d;(c=(b=null==(d=(c=(a.ownerDocument&&a.ownerDocument.defaultView||window).document).querySelector)?void 0:d.call(c,\"script[nonce]\"))?b.nonce||b.getAttribute(\"nonce\")||\"\":\"\")&&a.setAttribute(\"nonce\",c)};function n(a){a=null===a?\"null\":void 0===a?\"undefined\":a;if(void 0===g){var b=null;var c=e.trustedTypes;if(c&&c.createPolicy){try{b=c.createPolicy(\"goog#html\",{createHTML:f,createScript:f,createScriptURL:f})}catch(d){e.console&&e.console.error(d.message)}g=b}else g=b}a=(b=g)?b.createScriptURL(a):a;return new h(a,k)};void 0===google.ps&&(google.ps=[]);function p(){var a=u,b=function(){};google.lx=google.stvsc?b:function(){q(a);google.lx=b};google.bx||google.lx()}function r(a,b){b&&m(a,n(b));var c=a.onload;a.onload=function(d){c&&c(d);google.ps=google.ps.filter(function(t){return a!==t})};google.ps.push(a);document.body.appendChild(a)}google.as=r;function q(a){google.timers&&google.timers.load&&google.tick&&google.tick(\"load\",\"xjsls\");var b=l();b.onerror=function(){google.ple=1};b.onload=function(){google.ple=0};google.xjsus=void 0;r(b,a);google.aple=-1;google.psa=!0};google.xjsu=u;e._F_jsUrl=u;setTimeout(function(){0<amd?google.caft(function(){return p()},amd):p()},0);})();window._ = window._ || {};window._DumpException = _._DumpException = function(e){throw e;};window._s = window._s || {};_s._DumpException = _._DumpException;window._qs = window._qs || {};_qs._DumpException = _._DumpException;(function(){var t=[1,0,0,0,512,83886144,2101248,0,536871168,74711040,720896,1472];window._F_toggles = window._xjs_toggles = t;})();function _F_installCss(c){}\n",
      "(function(){google.jl={blt:'none',chnk:0,dw:false,dwu:true,emtn:0,end:0,ico:false,ikb:0,ine:false,injs:'none',injt:0,injth:0,injv2:false,lls:'default',pdt:0,rep:0,snet:true,strt:0,ubm:false,uwp:true};})();(function(){var pmc='{\\x22d\\x22:{},\\x22sb_he\\x22:{\\x22agen\\x22:true,\\x22cgen\\x22:true,\\x22client\\x22:\\x22heirloom-hp\\x22,\\x22dh\\x22:true,\\x22ds\\x22:\\x22\\x22,\\x22fl\\x22:true,\\x22host\\x22:\\x22google.com\\x22,\\x22jsonp\\x22:true,\\x22msgs\\x22:{\\x22cibl\\x22:\\x22Clear Search\\x22,\\x22dym\\x22:\\x22Did you mean:\\x22,\\x22lcky\\x22:\\x22I\\\\u0026#39;m Feeling Lucky\\x22,\\x22lml\\x22:\\x22Learn more\\x22,\\x22psrc\\x22:\\x22This search was removed from your \\\\u003Ca href\\x3d\\\\\\x22/history\\\\\\x22\\\\u003EWeb History\\\\u003C/a\\\\u003E\\x22,\\x22psrl\\x22:\\x22Remove\\x22,\\x22sbit\\x22:\\x22Search by image\\x22,\\x22srch\\x22:\\x22Google Search\\x22},\\x22ovr\\x22:{},\\x22pq\\x22:\\x22\\x22,\\x22rfs\\x22:[],\\x22sbas\\x22:\\x220 3px 8px 0 rgba(0,0,0,0.2),0 0 0 1px rgba(0,0,0,0.08)\\x22,\\x22stok\\x22:\\x22WDm0-mrJABWJorGPzRc5S67Nf38\\x22}}';google.pmc=JSON.parse(pmc);})();(function(){var b=function(a){var c=0;return function(){return c<a.length?{done:!1,value:a[c++]}:{done:!0}}};\n",
      "var e=this||self;var g,h;a:{for(var k=[\"CLOSURE_FLAGS\"],l=e,n=0;n<k.length;n++)if(l=l[k[n]],null==l){h=null;break a}h=l}var p=h&&h[610401301];g=null!=p?p:!1;var q,r=e.navigator;q=r?r.userAgentData||null:null;function t(a){return g?q?q.brands.some(function(c){return(c=c.brand)&&-1!=c.indexOf(a)}):!1:!1}function u(a){var c;a:{if(c=e.navigator)if(c=c.userAgent)break a;c=\"\"}return-1!=c.indexOf(a)};function v(){return g?!!q&&0<q.brands.length:!1}function w(){return u(\"Safari\")&&!(x()||(v()?0:u(\"Coast\"))||(v()?0:u(\"Opera\"))||(v()?0:u(\"Edge\"))||(v()?t(\"Microsoft Edge\"):u(\"Edg/\"))||(v()?t(\"Opera\"):u(\"OPR\"))||u(\"Firefox\")||u(\"FxiOS\")||u(\"Silk\")||u(\"Android\"))}function x(){return v()?t(\"Chromium\"):(u(\"Chrome\")||u(\"CriOS\"))&&!(v()?0:u(\"Edge\"))||u(\"Silk\")}function y(){return u(\"Android\")&&!(x()||u(\"Firefox\")||u(\"FxiOS\")||(v()?0:u(\"Opera\"))||u(\"Silk\"))};var z=v()?!1:u(\"Trident\")||u(\"MSIE\");y();x();w();Object.freeze({});var A=!z&&!w(),D=function(a){if(/-[a-z]/.test(\"ved\"))return null;if(A&&a.dataset){if(y()&&!(\"ved\"in a.dataset))return null;a=a.dataset.ved;return void 0===a?null:a}return a.getAttribute(\"data-\"+\"ved\".replace(/([A-Z])/g,\"-$1\").toLowerCase())};var E=[],F=null;function G(a){a=a.target;var c=performance.now(),f=[],H=f.concat,d=E;if(!(d instanceof Array)){var m=\"undefined\"!=typeof Symbol&&Symbol.iterator&&d[Symbol.iterator];if(m)d=m.call(d);else if(\"number\"==typeof d.length)d={next:b(d)};else throw Error(\"a`\"+String(d));for(var B=[];!(m=d.next()).done;)B.push(m.value);d=B}E=H.call(f,d,[c]);if(a&&a instanceof HTMLElement)if(a===F){if(c=4<=E.length)c=5>(E[E.length-1]-E[E.length-4])/1E3;if(c){c=google.getEI(a);a.hasAttribute(\"data-ved\")?f=a?D(a)||\"\":\"\":f=(f=\n",
      "a.closest(\"[data-ved]\"))?D(f)||\"\":\"\";f=f||\"\";if(a.hasAttribute(\"jsname\"))a=a.getAttribute(\"jsname\");else{var C;a=null==(C=a.closest(\"[jsname]\"))?void 0:C.getAttribute(\"jsname\")}google.log(\"rcm\",\"&ei=\"+c+\"&ved=\"+f+\"&jsname=\"+(a||\"\"))}}else F=a,E=[c]}window.document.addEventListener(\"DOMContentLoaded\",function(){document.body.addEventListener(\"click\",G)});}).call(this);\n",
      "  </script>\n",
      " </body>\n",
      "</html>\n",
      "\n"
     ]
    }
   ],
   "source": [
    "print(soup.prettify())"
   ]
  },
  {
   "cell_type": "code",
   "execution_count": null,
   "id": "ed5f91ef",
   "metadata": {},
   "outputs": [],
   "source": []
  },
  {
   "cell_type": "code",
   "execution_count": null,
   "id": "9d484286",
   "metadata": {},
   "outputs": [],
   "source": []
  },
  {
   "cell_type": "code",
   "execution_count": null,
   "id": "17fb6028",
   "metadata": {},
   "outputs": [],
   "source": []
  },
  {
   "cell_type": "code",
   "execution_count": null,
   "id": "7c672c44",
   "metadata": {},
   "outputs": [],
   "source": []
  },
  {
   "cell_type": "code",
   "execution_count": null,
   "id": "923c4563",
   "metadata": {},
   "outputs": [],
   "source": []
  }
 ],
 "metadata": {
  "kernelspec": {
   "display_name": "Python 3 (ipykernel)",
   "language": "python",
   "name": "python3"
  },
  "language_info": {
   "codemirror_mode": {
    "name": "ipython",
    "version": 3
   },
   "file_extension": ".py",
   "mimetype": "text/x-python",
   "name": "python",
   "nbconvert_exporter": "python",
   "pygments_lexer": "ipython3",
   "version": "3.11.4"
  }
 },
 "nbformat": 4,
 "nbformat_minor": 5
}
