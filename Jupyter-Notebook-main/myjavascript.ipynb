{
 "cells": [
  {
   "cell_type": "code",
   "execution_count": 1,
   "id": "f4bc3fb7",
   "metadata": {},
   "outputs": [
    {
     "data": {
      "application/javascript": [
       "\n",
       "alert(\"YOUR PAGE MAY ON RISK !!!!\")\n"
      ],
      "text/plain": [
       "<IPython.core.display.Javascript object>"
      ]
     },
     "metadata": {},
     "output_type": "display_data"
    }
   ],
   "source": [
    "%%javascript\n",
    "\n",
    "alert(\"YOUR PAGE MAY ON RISK !!!!\")"
   ]
  },
  {
   "cell_type": "code",
   "execution_count": 2,
   "id": "b66a777a",
   "metadata": {},
   "outputs": [
    {
     "data": {
      "application/javascript": [
       "\n",
       "var b=confirm(\"R U 18+ \")\n",
       "element.text(b)\n"
      ],
      "text/plain": [
       "<IPython.core.display.Javascript object>"
      ]
     },
     "metadata": {},
     "output_type": "display_data"
    }
   ],
   "source": [
    "%%javascript\n",
    "\n",
    "var b=confirm(\"R U 18+ \")\n",
    "element.text(b)"
   ]
  },
  {
   "cell_type": "code",
   "execution_count": 3,
   "id": "409ae266",
   "metadata": {},
   "outputs": [
    {
     "data": {
      "application/javascript": [
       "\n",
       "var name = prompt(\"ENTER ANY MESSAGE : \")\n",
       "element.text(name)\n"
      ],
      "text/plain": [
       "<IPython.core.display.Javascript object>"
      ]
     },
     "metadata": {},
     "output_type": "display_data"
    }
   ],
   "source": [
    "%%javascript\n",
    "\n",
    "var name = prompt(\"ENTER ANY MESSAGE : \")\n",
    "element.text(name)"
   ]
  },
  {
   "cell_type": "code",
   "execution_count": 4,
   "id": "919ed72c",
   "metadata": {},
   "outputs": [
    {
     "data": {
      "application/javascript": [
       "\n",
       "var n1 = parseInt(prompt(\"ENTER NO1 : \"))\n",
       "var n2 = parseInt(prompt(\"ENTER NO2 : \"))\n",
       "\n",
       "var n3 = n1+n2\n",
       "element.text(\"add =\"+n3)\n"
      ],
      "text/plain": [
       "<IPython.core.display.Javascript object>"
      ]
     },
     "metadata": {},
     "output_type": "display_data"
    }
   ],
   "source": [
    "%%javascript\n",
    "\n",
    "var n1 = parseInt(prompt(\"ENTER NO1 : \"))\n",
    "var n2 = parseInt(prompt(\"ENTER NO2 : \"))\n",
    "\n",
    "var n3 = n1+n2\n",
    "element.text(\"add =\"+n3)"
   ]
  },
  {
   "cell_type": "code",
   "execution_count": 7,
   "id": "f22e7aab",
   "metadata": {},
   "outputs": [
    {
     "data": {
      "application/javascript": [
       "\n",
       "var n1 = parseInt(prompt(\"ENTER NO1 : \"))\n",
       "var n2 = parseInt(prompt(\"ENTER NO2 : \"))\n",
       "var i=1\n",
       "var p=1\n",
       "while(i<=n2){\n",
       "    p=p*n1\n",
       "    i++\n",
       "}\n",
       "\n",
       "element.text(p)\n"
      ],
      "text/plain": [
       "<IPython.core.display.Javascript object>"
      ]
     },
     "metadata": {},
     "output_type": "display_data"
    }
   ],
   "source": [
    "%%javascript\n",
    "\n",
    "var n1 = parseInt(prompt(\"ENTER NO1 : \"))\n",
    "var n2 = parseInt(prompt(\"ENTER NO2 : \"))\n",
    "var i=1\n",
    "var p=1\n",
    "while(i<=n2){\n",
    "    p=p*n1\n",
    "    i++\n",
    "}\n",
    "\n",
    "element.text(p)"
   ]
  },
  {
   "cell_type": "code",
   "execution_count": null,
   "id": "5023c397",
   "metadata": {},
   "outputs": [],
   "source": []
  },
  {
   "cell_type": "code",
   "execution_count": null,
   "id": "70ce4ea8",
   "metadata": {},
   "outputs": [],
   "source": []
  },
  {
   "cell_type": "code",
   "execution_count": null,
   "id": "09c497f2",
   "metadata": {},
   "outputs": [],
   "source": []
  }
 ],
 "metadata": {
  "kernelspec": {
   "display_name": "Python 3 (ipykernel)",
   "language": "python",
   "name": "python3"
  },
  "language_info": {
   "codemirror_mode": {
    "name": "ipython",
    "version": 3
   },
   "file_extension": ".py",
   "mimetype": "text/x-python",
   "name": "python",
   "nbconvert_exporter": "python",
   "pygments_lexer": "ipython3",
   "version": "3.11.4"
  }
 },
 "nbformat": 4,
 "nbformat_minor": 5
}
